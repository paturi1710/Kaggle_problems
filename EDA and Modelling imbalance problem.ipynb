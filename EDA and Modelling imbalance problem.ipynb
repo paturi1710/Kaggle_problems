{
 "cells": [
  {
   "cell_type": "code",
   "execution_count": 1,
   "id": "effb871d",
   "metadata": {},
   "outputs": [],
   "source": [
    "import pandas as pd\n",
    "import numpy as np\n",
    "import scipy as scp \n",
    "\n",
    "import seaborn as sns\n",
    "import matplotlib.pyplot as plt\n",
    "%matplotlib inline"
   ]
  },
  {
   "cell_type": "code",
   "execution_count": 2,
   "id": "c231e981",
   "metadata": {},
   "outputs": [],
   "source": [
    "sns.set(rc={'figure.figsize':(11.7,8.27)})"
   ]
  },
  {
   "cell_type": "code",
   "execution_count": 3,
   "id": "e4a78ec9",
   "metadata": {},
   "outputs": [
    {
     "data": {
      "text/plain": [
       "(8116, 20)"
      ]
     },
     "execution_count": 3,
     "metadata": {},
     "output_type": "execute_result"
    }
   ],
   "source": [
    "input_df = pd.read_csv('./CC-Approval-Prediction/label_df.csv')\n",
    "input_df.shape"
   ]
  },
  {
   "cell_type": "markdown",
   "id": "2e81a183",
   "metadata": {},
   "source": [
    "###### Very highly Imbalanced prolem to model .\n",
    "\n",
    "1. Good book clients are considered by taking a window of len atleast 30 months history and not having status as '3', '4' and '5'\n",
    "\n",
    "2. 3.4% of bad clients in the sample."
   ]
  },
  {
   "cell_type": "code",
   "execution_count": 4,
   "id": "4b155d9d",
   "metadata": {},
   "outputs": [
    {
     "data": {
      "text/plain": [
       "good    7838\n",
       "bad      278\n",
       "Name: label, dtype: int64"
      ]
     },
     "execution_count": 4,
     "metadata": {},
     "output_type": "execute_result"
    }
   ],
   "source": [
    "input_df['label'].value_counts()"
   ]
  },
  {
   "cell_type": "code",
   "execution_count": 5,
   "id": "f0d00023",
   "metadata": {},
   "outputs": [
    {
     "data": {
      "text/plain": [
       "3.4253326761951706"
      ]
     },
     "execution_count": 5,
     "metadata": {},
     "output_type": "execute_result"
    }
   ],
   "source": [
    "(278/(7838 + 278)) * 100.0"
   ]
  },
  {
   "cell_type": "code",
   "execution_count": 6,
   "id": "cf61d097",
   "metadata": {},
   "outputs": [
    {
     "data": {
      "text/html": [
       "<div>\n",
       "<style scoped>\n",
       "    .dataframe tbody tr th:only-of-type {\n",
       "        vertical-align: middle;\n",
       "    }\n",
       "\n",
       "    .dataframe tbody tr th {\n",
       "        vertical-align: top;\n",
       "    }\n",
       "\n",
       "    .dataframe thead th {\n",
       "        text-align: right;\n",
       "    }\n",
       "</style>\n",
       "<table border=\"1\" class=\"dataframe\">\n",
       "  <thead>\n",
       "    <tr style=\"text-align: right;\">\n",
       "      <th></th>\n",
       "      <th>ID</th>\n",
       "      <th>CODE_GENDER</th>\n",
       "      <th>FLAG_OWN_CAR</th>\n",
       "      <th>FLAG_OWN_REALTY</th>\n",
       "      <th>CNT_CHILDREN</th>\n",
       "      <th>AMT_INCOME_TOTAL</th>\n",
       "      <th>NAME_INCOME_TYPE</th>\n",
       "      <th>NAME_EDUCATION_TYPE</th>\n",
       "      <th>NAME_FAMILY_STATUS</th>\n",
       "      <th>NAME_HOUSING_TYPE</th>\n",
       "      <th>DAYS_BIRTH</th>\n",
       "      <th>DAYS_EMPLOYED</th>\n",
       "      <th>FLAG_MOBIL</th>\n",
       "      <th>FLAG_WORK_PHONE</th>\n",
       "      <th>FLAG_PHONE</th>\n",
       "      <th>FLAG_EMAIL</th>\n",
       "      <th>OCCUPATION_TYPE</th>\n",
       "      <th>CNT_FAM_MEMBERS</th>\n",
       "      <th>risk_start_month</th>\n",
       "      <th>label</th>\n",
       "    </tr>\n",
       "  </thead>\n",
       "  <tbody>\n",
       "    <tr>\n",
       "      <th>0</th>\n",
       "      <td>5008811</td>\n",
       "      <td>F</td>\n",
       "      <td>N</td>\n",
       "      <td>Y</td>\n",
       "      <td>0</td>\n",
       "      <td>270000.0</td>\n",
       "      <td>Commercial associate</td>\n",
       "      <td>Secondary / secondary special</td>\n",
       "      <td>Single / not married</td>\n",
       "      <td>House / apartment</td>\n",
       "      <td>-19110</td>\n",
       "      <td>-3051</td>\n",
       "      <td>1</td>\n",
       "      <td>0</td>\n",
       "      <td>1</td>\n",
       "      <td>1</td>\n",
       "      <td>Sales staff</td>\n",
       "      <td>1.0</td>\n",
       "      <td>39</td>\n",
       "      <td>good</td>\n",
       "    </tr>\n",
       "    <tr>\n",
       "      <th>1</th>\n",
       "      <td>5112956</td>\n",
       "      <td>M</td>\n",
       "      <td>Y</td>\n",
       "      <td>Y</td>\n",
       "      <td>0</td>\n",
       "      <td>270000.0</td>\n",
       "      <td>Working</td>\n",
       "      <td>Higher education</td>\n",
       "      <td>Married</td>\n",
       "      <td>House / apartment</td>\n",
       "      <td>-16872</td>\n",
       "      <td>-769</td>\n",
       "      <td>1</td>\n",
       "      <td>1</td>\n",
       "      <td>1</td>\n",
       "      <td>1</td>\n",
       "      <td>Accountants</td>\n",
       "      <td>2.0</td>\n",
       "      <td>43</td>\n",
       "      <td>good</td>\n",
       "    </tr>\n",
       "    <tr>\n",
       "      <th>2</th>\n",
       "      <td>5008830</td>\n",
       "      <td>F</td>\n",
       "      <td>N</td>\n",
       "      <td>Y</td>\n",
       "      <td>0</td>\n",
       "      <td>157500.0</td>\n",
       "      <td>Working</td>\n",
       "      <td>Secondary / secondary special</td>\n",
       "      <td>Married</td>\n",
       "      <td>House / apartment</td>\n",
       "      <td>-10031</td>\n",
       "      <td>-1469</td>\n",
       "      <td>1</td>\n",
       "      <td>0</td>\n",
       "      <td>1</td>\n",
       "      <td>0</td>\n",
       "      <td>Laborers</td>\n",
       "      <td>2.0</td>\n",
       "      <td>32</td>\n",
       "      <td>good</td>\n",
       "    </tr>\n",
       "    <tr>\n",
       "      <th>3</th>\n",
       "      <td>5008832</td>\n",
       "      <td>F</td>\n",
       "      <td>N</td>\n",
       "      <td>Y</td>\n",
       "      <td>0</td>\n",
       "      <td>157500.0</td>\n",
       "      <td>Working</td>\n",
       "      <td>Secondary / secondary special</td>\n",
       "      <td>Married</td>\n",
       "      <td>House / apartment</td>\n",
       "      <td>-10031</td>\n",
       "      <td>-1469</td>\n",
       "      <td>1</td>\n",
       "      <td>0</td>\n",
       "      <td>1</td>\n",
       "      <td>0</td>\n",
       "      <td>Laborers</td>\n",
       "      <td>2.0</td>\n",
       "      <td>35</td>\n",
       "      <td>good</td>\n",
       "    </tr>\n",
       "    <tr>\n",
       "      <th>4</th>\n",
       "      <td>5008834</td>\n",
       "      <td>F</td>\n",
       "      <td>N</td>\n",
       "      <td>Y</td>\n",
       "      <td>1</td>\n",
       "      <td>112500.0</td>\n",
       "      <td>Working</td>\n",
       "      <td>Secondary / secondary special</td>\n",
       "      <td>Single / not married</td>\n",
       "      <td>House / apartment</td>\n",
       "      <td>-10968</td>\n",
       "      <td>-1620</td>\n",
       "      <td>1</td>\n",
       "      <td>0</td>\n",
       "      <td>0</td>\n",
       "      <td>0</td>\n",
       "      <td>NaN</td>\n",
       "      <td>2.0</td>\n",
       "      <td>45</td>\n",
       "      <td>good</td>\n",
       "    </tr>\n",
       "  </tbody>\n",
       "</table>\n",
       "</div>"
      ],
      "text/plain": [
       "        ID CODE_GENDER FLAG_OWN_CAR FLAG_OWN_REALTY  CNT_CHILDREN  \\\n",
       "0  5008811           F            N               Y             0   \n",
       "1  5112956           M            Y               Y             0   \n",
       "2  5008830           F            N               Y             0   \n",
       "3  5008832           F            N               Y             0   \n",
       "4  5008834           F            N               Y             1   \n",
       "\n",
       "   AMT_INCOME_TOTAL      NAME_INCOME_TYPE            NAME_EDUCATION_TYPE  \\\n",
       "0          270000.0  Commercial associate  Secondary / secondary special   \n",
       "1          270000.0               Working               Higher education   \n",
       "2          157500.0               Working  Secondary / secondary special   \n",
       "3          157500.0               Working  Secondary / secondary special   \n",
       "4          112500.0               Working  Secondary / secondary special   \n",
       "\n",
       "     NAME_FAMILY_STATUS  NAME_HOUSING_TYPE  DAYS_BIRTH  DAYS_EMPLOYED  \\\n",
       "0  Single / not married  House / apartment      -19110          -3051   \n",
       "1               Married  House / apartment      -16872           -769   \n",
       "2               Married  House / apartment      -10031          -1469   \n",
       "3               Married  House / apartment      -10031          -1469   \n",
       "4  Single / not married  House / apartment      -10968          -1620   \n",
       "\n",
       "   FLAG_MOBIL  FLAG_WORK_PHONE  FLAG_PHONE  FLAG_EMAIL OCCUPATION_TYPE  \\\n",
       "0           1                0           1           1     Sales staff   \n",
       "1           1                1           1           1     Accountants   \n",
       "2           1                0           1           0        Laborers   \n",
       "3           1                0           1           0        Laborers   \n",
       "4           1                0           0           0             NaN   \n",
       "\n",
       "   CNT_FAM_MEMBERS  risk_start_month label  \n",
       "0              1.0                39  good  \n",
       "1              2.0                43  good  \n",
       "2              2.0                32  good  \n",
       "3              2.0                35  good  \n",
       "4              2.0                45  good  "
      ]
     },
     "execution_count": 6,
     "metadata": {},
     "output_type": "execute_result"
    }
   ],
   "source": [
    "input_df.head()"
   ]
  },
  {
   "cell_type": "markdown",
   "id": "fbbde15b",
   "metadata": {},
   "source": [
    "###### Only Occupation is missing. \n",
    "\n",
    "1.Instead of dropping the column, lets impute the occupation with a category called missing."
   ]
  },
  {
   "cell_type": "code",
   "execution_count": 7,
   "id": "a43cdd79",
   "metadata": {},
   "outputs": [
    {
     "data": {
      "text/plain": [
       "ID                        0\n",
       "CODE_GENDER               0\n",
       "FLAG_OWN_CAR              0\n",
       "FLAG_OWN_REALTY           0\n",
       "CNT_CHILDREN              0\n",
       "AMT_INCOME_TOTAL          0\n",
       "NAME_INCOME_TYPE          0\n",
       "NAME_EDUCATION_TYPE       0\n",
       "NAME_FAMILY_STATUS        0\n",
       "NAME_HOUSING_TYPE         0\n",
       "DAYS_BIRTH                0\n",
       "DAYS_EMPLOYED             0\n",
       "FLAG_MOBIL                0\n",
       "FLAG_WORK_PHONE           0\n",
       "FLAG_PHONE                0\n",
       "FLAG_EMAIL                0\n",
       "OCCUPATION_TYPE        2549\n",
       "CNT_FAM_MEMBERS           0\n",
       "risk_start_month          0\n",
       "label                     0\n",
       "dtype: int64"
      ]
     },
     "execution_count": 7,
     "metadata": {},
     "output_type": "execute_result"
    }
   ],
   "source": [
    "input_df.isna().sum()"
   ]
  },
  {
   "cell_type": "code",
   "execution_count": 8,
   "id": "8898fd75",
   "metadata": {},
   "outputs": [
    {
     "data": {
      "text/plain": [
       "good    2455\n",
       "bad       94\n",
       "Name: label, dtype: int64"
      ]
     },
     "execution_count": 8,
     "metadata": {},
     "output_type": "execute_result"
    }
   ],
   "source": [
    "# missing is not givin much info as it is proportionally represented in the label..\n",
    "input_df[input_df[\"OCCUPATION_TYPE\"].isna()][\"label\"].value_counts()"
   ]
  },
  {
   "cell_type": "code",
   "execution_count": 9,
   "id": "6eff9b4f",
   "metadata": {},
   "outputs": [
    {
     "data": {
      "text/plain": [
       "<AxesSubplot:xlabel='OCCUPATION_TYPE'>"
      ]
     },
     "execution_count": 9,
     "metadata": {},
     "output_type": "execute_result"
    },
    {
     "data": {
      "image/png": "[encoded data removed]",
      "text/plain": [
       "<Figure size 720x648 with 1 Axes>"
      ]
     },
     "metadata": {},
     "output_type": "display_data"
    }
   ],
   "source": [
    "plt_df = input_df['OCCUPATION_TYPE'].value_counts().reset_index()\n",
    "plt_df.columns = [\"OCCUPATION_TYPE\", \"freq\"]\n",
    "plt_df.plot(x=\"OCCUPATION_TYPE\", y=\"freq\", kind=\"bar\", figsize=(10, 9))"
   ]
  },
  {
   "cell_type": "code",
   "execution_count": 10,
   "id": "1042f73e",
   "metadata": {},
   "outputs": [],
   "source": [
    "input_df.fillna({\"OCCUPATION_TYPE\": 'missing'}, inplace=True)"
   ]
  },
  {
   "cell_type": "markdown",
   "id": "091147b7",
   "metadata": {},
   "source": [
    "###### Some points to consider based on the describe method..\n",
    "\n",
    "1. No variablility in FLAG_MOBI, std is zero. (Exclude this column in analysis, no info)\n",
    "\n",
    "2. DAYS_EMPLOYED, max value is 365243. Looks suspicious need to check for outliers. Based on the data description, positive value signifies unemployment. \n",
    "\n",
    "3. 75% of the people dont have a work phone.\n",
    "\n",
    "4. Max count of children is 14. Looks like a outlier"
   ]
  },
  {
   "cell_type": "code",
   "execution_count": 11,
   "id": "b4bc9024",
   "metadata": {},
   "outputs": [
    {
     "data": {
      "text/html": [
       "<div>\n",
       "<style scoped>\n",
       "    .dataframe tbody tr th:only-of-type {\n",
       "        vertical-align: middle;\n",
       "    }\n",
       "\n",
       "    .dataframe tbody tr th {\n",
       "        vertical-align: top;\n",
       "    }\n",
       "\n",
       "    .dataframe thead th {\n",
       "        text-align: right;\n",
       "    }\n",
       "</style>\n",
       "<table border=\"1\" class=\"dataframe\">\n",
       "  <thead>\n",
       "    <tr style=\"text-align: right;\">\n",
       "      <th></th>\n",
       "      <th>ID</th>\n",
       "      <th>CNT_CHILDREN</th>\n",
       "      <th>AMT_INCOME_TOTAL</th>\n",
       "      <th>DAYS_BIRTH</th>\n",
       "      <th>DAYS_EMPLOYED</th>\n",
       "      <th>FLAG_MOBIL</th>\n",
       "      <th>FLAG_WORK_PHONE</th>\n",
       "      <th>FLAG_PHONE</th>\n",
       "      <th>FLAG_EMAIL</th>\n",
       "      <th>CNT_FAM_MEMBERS</th>\n",
       "      <th>risk_start_month</th>\n",
       "    </tr>\n",
       "  </thead>\n",
       "  <tbody>\n",
       "    <tr>\n",
       "      <th>count</th>\n",
       "      <td>8.116000e+03</td>\n",
       "      <td>8116.000000</td>\n",
       "      <td>8.116000e+03</td>\n",
       "      <td>8116.000000</td>\n",
       "      <td>8116.000000</td>\n",
       "      <td>8116.0</td>\n",
       "      <td>8116.000000</td>\n",
       "      <td>8116.000000</td>\n",
       "      <td>8116.000000</td>\n",
       "      <td>8116.000000</td>\n",
       "      <td>8116.000000</td>\n",
       "    </tr>\n",
       "    <tr>\n",
       "      <th>mean</th>\n",
       "      <td>5.079139e+06</td>\n",
       "      <td>0.415106</td>\n",
       "      <td>1.872399e+05</td>\n",
       "      <td>-16347.929029</td>\n",
       "      <td>60037.515648</td>\n",
       "      <td>1.0</td>\n",
       "      <td>0.233243</td>\n",
       "      <td>0.305323</td>\n",
       "      <td>0.090192</td>\n",
       "      <td>2.200468</td>\n",
       "      <td>42.165229</td>\n",
       "    </tr>\n",
       "    <tr>\n",
       "      <th>std</th>\n",
       "      <td>4.141470e+04</td>\n",
       "      <td>0.753591</td>\n",
       "      <td>1.005039e+05</td>\n",
       "      <td>4051.476065</td>\n",
       "      <td>138653.588108</td>\n",
       "      <td>0.0</td>\n",
       "      <td>0.422922</td>\n",
       "      <td>0.460572</td>\n",
       "      <td>0.286475</td>\n",
       "      <td>0.907886</td>\n",
       "      <td>9.838620</td>\n",
       "    </tr>\n",
       "    <tr>\n",
       "      <th>min</th>\n",
       "      <td>5.008811e+06</td>\n",
       "      <td>0.000000</td>\n",
       "      <td>2.700000e+04</td>\n",
       "      <td>-25152.000000</td>\n",
       "      <td>-15661.000000</td>\n",
       "      <td>1.0</td>\n",
       "      <td>0.000000</td>\n",
       "      <td>0.000000</td>\n",
       "      <td>0.000000</td>\n",
       "      <td>1.000000</td>\n",
       "      <td>4.000000</td>\n",
       "    </tr>\n",
       "    <tr>\n",
       "      <th>25%</th>\n",
       "      <td>5.045829e+06</td>\n",
       "      <td>0.000000</td>\n",
       "      <td>1.215000e+05</td>\n",
       "      <td>-19654.000000</td>\n",
       "      <td>-3453.500000</td>\n",
       "      <td>1.0</td>\n",
       "      <td>0.000000</td>\n",
       "      <td>0.000000</td>\n",
       "      <td>0.000000</td>\n",
       "      <td>2.000000</td>\n",
       "      <td>36.000000</td>\n",
       "    </tr>\n",
       "    <tr>\n",
       "      <th>50%</th>\n",
       "      <td>5.069422e+06</td>\n",
       "      <td>0.000000</td>\n",
       "      <td>1.620000e+05</td>\n",
       "      <td>-16053.000000</td>\n",
       "      <td>-1773.500000</td>\n",
       "      <td>1.0</td>\n",
       "      <td>0.000000</td>\n",
       "      <td>0.000000</td>\n",
       "      <td>0.000000</td>\n",
       "      <td>2.000000</td>\n",
       "      <td>41.000000</td>\n",
       "    </tr>\n",
       "    <tr>\n",
       "      <th>75%</th>\n",
       "      <td>5.115612e+06</td>\n",
       "      <td>1.000000</td>\n",
       "      <td>2.250000e+05</td>\n",
       "      <td>-12953.000000</td>\n",
       "      <td>-412.000000</td>\n",
       "      <td>1.0</td>\n",
       "      <td>0.000000</td>\n",
       "      <td>1.000000</td>\n",
       "      <td>0.000000</td>\n",
       "      <td>3.000000</td>\n",
       "      <td>49.000000</td>\n",
       "    </tr>\n",
       "    <tr>\n",
       "      <th>max</th>\n",
       "      <td>5.150475e+06</td>\n",
       "      <td>14.000000</td>\n",
       "      <td>1.575000e+06</td>\n",
       "      <td>-8347.000000</td>\n",
       "      <td>365243.000000</td>\n",
       "      <td>1.0</td>\n",
       "      <td>1.000000</td>\n",
       "      <td>1.000000</td>\n",
       "      <td>1.000000</td>\n",
       "      <td>15.000000</td>\n",
       "      <td>61.000000</td>\n",
       "    </tr>\n",
       "  </tbody>\n",
       "</table>\n",
       "</div>"
      ],
      "text/plain": [
       "                 ID  CNT_CHILDREN  AMT_INCOME_TOTAL    DAYS_BIRTH  \\\n",
       "count  8.116000e+03   8116.000000      8.116000e+03   8116.000000   \n",
       "mean   5.079139e+06      0.415106      1.872399e+05 -16347.929029   \n",
       "std    4.141470e+04      0.753591      1.005039e+05   4051.476065   \n",
       "min    5.008811e+06      0.000000      2.700000e+04 -25152.000000   \n",
       "25%    5.045829e+06      0.000000      1.215000e+05 -19654.000000   \n",
       "50%    5.069422e+06      0.000000      1.620000e+05 -16053.000000   \n",
       "75%    5.115612e+06      1.000000      2.250000e+05 -12953.000000   \n",
       "max    5.150475e+06     14.000000      1.575000e+06  -8347.000000   \n",
       "\n",
       "       DAYS_EMPLOYED  FLAG_MOBIL  FLAG_WORK_PHONE   FLAG_PHONE   FLAG_EMAIL  \\\n",
       "count    8116.000000      8116.0      8116.000000  8116.000000  8116.000000   \n",
       "mean    60037.515648         1.0         0.233243     0.305323     0.090192   \n",
       "std    138653.588108         0.0         0.422922     0.460572     0.286475   \n",
       "min    -15661.000000         1.0         0.000000     0.000000     0.000000   \n",
       "25%     -3453.500000         1.0         0.000000     0.000000     0.000000   \n",
       "50%     -1773.500000         1.0         0.000000     0.000000     0.000000   \n",
       "75%      -412.000000         1.0         0.000000     1.000000     0.000000   \n",
       "max    365243.000000         1.0         1.000000     1.000000     1.000000   \n",
       "\n",
       "       CNT_FAM_MEMBERS  risk_start_month  \n",
       "count      8116.000000       8116.000000  \n",
       "mean          2.200468         42.165229  \n",
       "std           0.907886          9.838620  \n",
       "min           1.000000          4.000000  \n",
       "25%           2.000000         36.000000  \n",
       "50%           2.000000         41.000000  \n",
       "75%           3.000000         49.000000  \n",
       "max          15.000000         61.000000  "
      ]
     },
     "execution_count": 11,
     "metadata": {},
     "output_type": "execute_result"
    }
   ],
   "source": [
    "input_df.describe()"
   ]
  },
  {
   "cell_type": "code",
   "execution_count": 12,
   "id": "eef31029",
   "metadata": {},
   "outputs": [],
   "source": [
    "input_df.drop('FLAG_MOBIL', axis = 1, inplace=True)"
   ]
  },
  {
   "cell_type": "code",
   "execution_count": 13,
   "id": "c83dc698",
   "metadata": {},
   "outputs": [
    {
     "data": {
      "text/plain": [
       "count    8116.000000\n",
       "mean       44.788847\n",
       "std        11.099934\n",
       "min        22.868493\n",
       "25%        35.487671\n",
       "50%        43.980822\n",
       "75%        53.846575\n",
       "max        68.909589\n",
       "Name: DAYS_BIRTH, dtype: float64"
      ]
     },
     "execution_count": 13,
     "metadata": {},
     "output_type": "execute_result"
    }
   ],
   "source": [
    "(input_df[\"DAYS_BIRTH\"]/-365.0).describe()"
   ]
  },
  {
   "cell_type": "code",
   "execution_count": 14,
   "id": "3e09070f",
   "metadata": {},
   "outputs": [
    {
     "data": {
      "text/plain": [
       "<seaborn.axisgrid.FacetGrid at 0x1a2a90e8760>"
      ]
     },
     "execution_count": 14,
     "metadata": {},
     "output_type": "execute_result"
    },
    {
     "data": {
      "image/png": "[encoded data removed]",
      "text/plain": [
       "<Figure size 360x360 with 1 Axes>"
      ]
     },
     "metadata": {},
     "output_type": "display_data"
    }
   ],
   "source": [
    "sns.displot(input_df[\"DAYS_BIRTH\"]/-365.0, kde=True)"
   ]
  },
  {
   "cell_type": "code",
   "execution_count": 15,
   "id": "0e3ac750",
   "metadata": {},
   "outputs": [
    {
     "data": {
      "text/plain": [
       "<AxesSubplot:xlabel='label', ylabel='DAYS_BIRTH'>"
      ]
     },
     "execution_count": 15,
     "metadata": {},
     "output_type": "execute_result"
    },
    {
     "data": {
      "image/png": "[encoded data removed]",
      "text/plain": [
       "<Figure size 842.4x595.44 with 1 Axes>"
      ]
     },
     "metadata": {},
     "output_type": "display_data"
    }
   ],
   "source": [
    "sns.boxplot(x = \"label\", y=\"DAYS_BIRTH\", data=input_df)"
   ]
  },
  {
   "cell_type": "code",
   "execution_count": 16,
   "id": "8c67dafd",
   "metadata": {},
   "outputs": [
    {
     "data": {
      "text/plain": [
       "label\n",
       "bad    -44.967123\n",
       "good   -43.923288\n",
       "dtype: float64"
      ]
     },
     "execution_count": 16,
     "metadata": {},
     "output_type": "execute_result"
    }
   ],
   "source": [
    "input_df.groupby(\"label\").apply(lambda x: (x[\"DAYS_BIRTH\"]/365.0).median())"
   ]
  },
  {
   "cell_type": "markdown",
   "id": "a59f05f4",
   "metadata": {},
   "source": [
    "###### Except some outliers, no relationship is seen between Age & Income "
   ]
  },
  {
   "cell_type": "code",
   "execution_count": 17,
   "id": "e972b310",
   "metadata": {},
   "outputs": [
    {
     "data": {
      "text/plain": [
       "<AxesSubplot:xlabel='DAYS_BIRTH', ylabel='AMT_INCOME_TOTAL'>"
      ]
     },
     "execution_count": 17,
     "metadata": {},
     "output_type": "execute_result"
    },
    {
     "data": {
      "image/png": "[encoded data removed]",
      "text/plain": [
       "<Figure size 842.4x595.44 with 1 Axes>"
      ]
     },
     "metadata": {},
     "output_type": "display_data"
    }
   ],
   "source": [
    "sns.scatterplot(x=input_df[\"DAYS_BIRTH\"]/-365.0, y=input_df['AMT_INCOME_TOTAL'])"
   ]
  },
  {
   "cell_type": "code",
   "execution_count": 18,
   "id": "f628aad2",
   "metadata": {},
   "outputs": [
    {
     "data": {
      "text/plain": [
       "<AxesSubplot:xlabel='label', ylabel='AMT_INCOME_TOTAL'>"
      ]
     },
     "execution_count": 18,
     "metadata": {},
     "output_type": "execute_result"
    },
    {
     "data": {
      "image/png": "[encoded data removed]",
      "text/plain": [
       "<Figure size 842.4x595.44 with 1 Axes>"
      ]
     },
     "metadata": {},
     "output_type": "display_data"
    }
   ],
   "source": [
    "sns.boxplot(x = \"label\", y=\"AMT_INCOME_TOTAL\", data=input_df)"
   ]
  },
  {
   "cell_type": "markdown",
   "id": "c68167e9",
   "metadata": {},
   "source": [
    "###### Income is not showing as a differentiating factor "
   ]
  },
  {
   "cell_type": "code",
   "execution_count": 19,
   "id": "ff571aa4",
   "metadata": {},
   "outputs": [
    {
     "data": {
      "text/html": [
       "<div>\n",
       "<style scoped>\n",
       "    .dataframe tbody tr th:only-of-type {\n",
       "        vertical-align: middle;\n",
       "    }\n",
       "\n",
       "    .dataframe tbody tr th {\n",
       "        vertical-align: top;\n",
       "    }\n",
       "\n",
       "    .dataframe thead th {\n",
       "        text-align: right;\n",
       "    }\n",
       "</style>\n",
       "<table border=\"1\" class=\"dataframe\">\n",
       "  <thead>\n",
       "    <tr style=\"text-align: right;\">\n",
       "      <th></th>\n",
       "      <th>count</th>\n",
       "      <th>mean</th>\n",
       "      <th>std</th>\n",
       "      <th>min</th>\n",
       "      <th>25%</th>\n",
       "      <th>50%</th>\n",
       "      <th>75%</th>\n",
       "      <th>max</th>\n",
       "    </tr>\n",
       "    <tr>\n",
       "      <th>label</th>\n",
       "      <th></th>\n",
       "      <th></th>\n",
       "      <th></th>\n",
       "      <th></th>\n",
       "      <th></th>\n",
       "      <th></th>\n",
       "      <th></th>\n",
       "      <th></th>\n",
       "    </tr>\n",
       "  </thead>\n",
       "  <tbody>\n",
       "    <tr>\n",
       "      <th>bad</th>\n",
       "      <td>278.0</td>\n",
       "      <td>191143.165468</td>\n",
       "      <td>105955.990319</td>\n",
       "      <td>36000.0</td>\n",
       "      <td>112500.0</td>\n",
       "      <td>171000.0</td>\n",
       "      <td>225000.0</td>\n",
       "      <td>675000.0</td>\n",
       "    </tr>\n",
       "    <tr>\n",
       "      <th>good</th>\n",
       "      <td>7838.0</td>\n",
       "      <td>187101.501786</td>\n",
       "      <td>100309.406896</td>\n",
       "      <td>27000.0</td>\n",
       "      <td>126000.0</td>\n",
       "      <td>161100.0</td>\n",
       "      <td>225000.0</td>\n",
       "      <td>1575000.0</td>\n",
       "    </tr>\n",
       "  </tbody>\n",
       "</table>\n",
       "</div>"
      ],
      "text/plain": [
       "        count           mean            std      min       25%       50%  \\\n",
       "label                                                                      \n",
       "bad     278.0  191143.165468  105955.990319  36000.0  112500.0  171000.0   \n",
       "good   7838.0  187101.501786  100309.406896  27000.0  126000.0  161100.0   \n",
       "\n",
       "            75%        max  \n",
       "label                       \n",
       "bad    225000.0   675000.0  \n",
       "good   225000.0  1575000.0  "
      ]
     },
     "execution_count": 19,
     "metadata": {},
     "output_type": "execute_result"
    }
   ],
   "source": [
    "input_df.groupby('label')[\"AMT_INCOME_TOTAL\"].describe()"
   ]
  },
  {
   "cell_type": "code",
   "execution_count": 20,
   "id": "da0277af",
   "metadata": {},
   "outputs": [
    {
     "data": {
      "text/html": [
       "<div>\n",
       "<style scoped>\n",
       "    .dataframe tbody tr th:only-of-type {\n",
       "        vertical-align: middle;\n",
       "    }\n",
       "\n",
       "    .dataframe tbody tr th {\n",
       "        vertical-align: top;\n",
       "    }\n",
       "\n",
       "    .dataframe thead th {\n",
       "        text-align: right;\n",
       "    }\n",
       "</style>\n",
       "<table border=\"1\" class=\"dataframe\">\n",
       "  <thead>\n",
       "    <tr style=\"text-align: right;\">\n",
       "      <th></th>\n",
       "      <th>count</th>\n",
       "      <th>mean</th>\n",
       "      <th>std</th>\n",
       "      <th>min</th>\n",
       "      <th>25%</th>\n",
       "      <th>50%</th>\n",
       "      <th>75%</th>\n",
       "      <th>max</th>\n",
       "    </tr>\n",
       "    <tr>\n",
       "      <th>label</th>\n",
       "      <th></th>\n",
       "      <th></th>\n",
       "      <th></th>\n",
       "      <th></th>\n",
       "      <th></th>\n",
       "      <th></th>\n",
       "      <th></th>\n",
       "      <th></th>\n",
       "    </tr>\n",
       "  </thead>\n",
       "  <tbody>\n",
       "    <tr>\n",
       "      <th>bad</th>\n",
       "      <td>-0.761644</td>\n",
       "      <td>45.144279</td>\n",
       "      <td>-11.898078</td>\n",
       "      <td>67.427397</td>\n",
       "      <td>54.816438</td>\n",
       "      <td>44.967123</td>\n",
       "      <td>34.946575</td>\n",
       "      <td>24.402740</td>\n",
       "    </tr>\n",
       "    <tr>\n",
       "      <th>good</th>\n",
       "      <td>-21.473973</td>\n",
       "      <td>44.776240</td>\n",
       "      <td>-11.071172</td>\n",
       "      <td>68.909589</td>\n",
       "      <td>53.786301</td>\n",
       "      <td>43.923288</td>\n",
       "      <td>35.487671</td>\n",
       "      <td>22.868493</td>\n",
       "    </tr>\n",
       "  </tbody>\n",
       "</table>\n",
       "</div>"
      ],
      "text/plain": [
       "           count       mean        std        min        25%        50%  \\\n",
       "label                                                                     \n",
       "bad    -0.761644  45.144279 -11.898078  67.427397  54.816438  44.967123   \n",
       "good  -21.473973  44.776240 -11.071172  68.909589  53.786301  43.923288   \n",
       "\n",
       "             75%        max  \n",
       "label                        \n",
       "bad    34.946575  24.402740  \n",
       "good   35.487671  22.868493  "
      ]
     },
     "execution_count": 20,
     "metadata": {},
     "output_type": "execute_result"
    }
   ],
   "source": [
    "input_df.groupby('label')[\"DAYS_BIRTH\"].describe()[:]/-365"
   ]
  },
  {
   "cell_type": "markdown",
   "id": "fc8ac3fe",
   "metadata": {},
   "source": [
    "###### EDA on days Employed \n",
    "\n",
    "1. 1388 people in the sample are unemployed (As the value is +ve and looks like it is imputed with some high value)\n",
    "   if we are building tree based model, we can leave as it is to differentiate with others.\n",
    "   \n",
    "2. Bad accounts of unemployed people are 4.32 % compared to 3.4%."
   ]
  },
  {
   "cell_type": "code",
   "execution_count": 21,
   "id": "64f4b2ce",
   "metadata": {},
   "outputs": [
    {
     "data": {
      "text/plain": [
       "<AxesSubplot:xlabel='DAYS_EMPLOYED'>"
      ]
     },
     "execution_count": 21,
     "metadata": {},
     "output_type": "execute_result"
    },
    {
     "data": {
      "image/png": "[encoded data removed]",
      "text/plain": [
       "<Figure size 842.4x595.44 with 1 Axes>"
      ]
     },
     "metadata": {},
     "output_type": "display_data"
    }
   ],
   "source": [
    "sns.boxplot(x=input_df[input_df['DAYS_EMPLOYED'] <= 0]['DAYS_EMPLOYED'])"
   ]
  },
  {
   "cell_type": "markdown",
   "id": "5e29518c",
   "metadata": {},
   "source": [
    "###### Days employed looks skewed \n",
    "\n",
    "1. Majority of the people fall under 13 years of employment.."
   ]
  },
  {
   "cell_type": "code",
   "execution_count": 22,
   "id": "c98409cf",
   "metadata": {},
   "outputs": [
    {
     "name": "stdout",
     "output_type": "stream",
     "text": [
      "positive values:  (1388,)\n"
     ]
    },
    {
     "data": {
      "text/plain": [
       "<seaborn.axisgrid.FacetGrid at 0x1a2a8d5f970>"
      ]
     },
     "execution_count": 22,
     "metadata": {},
     "output_type": "execute_result"
    },
    {
     "data": {
      "image/png": "[encoded data removed]",
      "text/plain": [
       "<Figure size 360x360 with 1 Axes>"
      ]
     },
     "metadata": {},
     "output_type": "display_data"
    },
    {
     "data": {
      "image/png": "[encoded data removed]",
      "text/plain": [
       "<Figure size 360x360 with 1 Axes>"
      ]
     },
     "metadata": {},
     "output_type": "display_data"
    }
   ],
   "source": [
    "print(\"positive values: \", input_df[input_df['DAYS_EMPLOYED'] >= 0]['DAYS_EMPLOYED'].shape)\n",
    "sns.displot(input_df[input_df['DAYS_EMPLOYED'] >= 0]['DAYS_EMPLOYED'])\n",
    "sns.displot(input_df[input_df['DAYS_EMPLOYED'] < 0]['DAYS_EMPLOYED']) "
   ]
  },
  {
   "cell_type": "code",
   "execution_count": 23,
   "id": "549b4935",
   "metadata": {},
   "outputs": [
    {
     "data": {
      "text/plain": [
       "good    1328\n",
       "bad       60\n",
       "Name: label, dtype: int64"
      ]
     },
     "execution_count": 23,
     "metadata": {},
     "output_type": "execute_result"
    }
   ],
   "source": [
    "unemployed_df = input_df[input_df['DAYS_EMPLOYED'] >= 0]\n",
    "unemployed_df[\"label\"].value_counts()"
   ]
  },
  {
   "cell_type": "code",
   "execution_count": 24,
   "id": "52e3d356",
   "metadata": {},
   "outputs": [
    {
     "data": {
      "text/plain": [
       "4.322766570605188"
      ]
     },
     "execution_count": 24,
     "metadata": {},
     "output_type": "execute_result"
    }
   ],
   "source": [
    "(60/(1328 + 60)) * 100.0"
   ]
  },
  {
   "cell_type": "markdown",
   "id": "f5d4f763",
   "metadata": {},
   "source": [
    "###### Created IS_employed variable"
   ]
  },
  {
   "cell_type": "code",
   "execution_count": 25,
   "id": "3e910bd4",
   "metadata": {},
   "outputs": [],
   "source": [
    "input_df[\"IS_EMPLOYED\"] = input_df[\"DAYS_EMPLOYED\"].apply(lambda x: 0 if x >= 0 else 1)"
   ]
  },
  {
   "cell_type": "code",
   "execution_count": 26,
   "id": "b8f08a1b",
   "metadata": {},
   "outputs": [
    {
     "data": {
      "text/plain": [
       "<AxesSubplot:xlabel='OCCUPATION_TYPE'>"
      ]
     },
     "execution_count": 26,
     "metadata": {},
     "output_type": "execute_result"
    },
    {
     "data": {
      "image/png": "[encoded data removed]",
      "text/plain": [
       "<Figure size 720x648 with 1 Axes>"
      ]
     },
     "metadata": {},
     "output_type": "display_data"
    }
   ],
   "source": [
    "plt_df = input_df[input_df[\"label\"] == 'bad'][\"OCCUPATION_TYPE\"].value_counts().reset_index()\n",
    "plt_df.columns = [\"OCCUPATION_TYPE\", 'count']\n",
    "\n",
    "\n",
    "plt_df.plot(x=\"OCCUPATION_TYPE\", y=\"count\", kind=\"bar\", figsize=(10, 9))"
   ]
  },
  {
   "cell_type": "code",
   "execution_count": 27,
   "id": "04849947",
   "metadata": {},
   "outputs": [
    {
     "data": {
      "text/plain": [
       "<AxesSubplot:xlabel='OCCUPATION_TYPE'>"
      ]
     },
     "execution_count": 27,
     "metadata": {},
     "output_type": "execute_result"
    },
    {
     "data": {
      "image/png": "[encoded data removed]",
      "text/plain": [
       "<Figure size 720x648 with 1 Axes>"
      ]
     },
     "metadata": {},
     "output_type": "display_data"
    }
   ],
   "source": [
    "plt_df = input_df[input_df[\"label\"] == 'good'][\"OCCUPATION_TYPE\"].value_counts().reset_index()\n",
    "plt_df.columns = [\"OCCUPATION_TYPE\", 'count']\n",
    "\n",
    "\n",
    "plt_df.plot(x=\"OCCUPATION_TYPE\", y=\"count\", kind=\"bar\", figsize=(10, 9))"
   ]
  },
  {
   "cell_type": "markdown",
   "id": "39139b44",
   "metadata": {},
   "source": [
    "###### Outliers are present in both in count of family members as count of children.\n",
    "###### Can discard these rows, if we want to build linear models. \n",
    "\n",
    "###### remove samples where CNT_FAM_MEMBERS > 6. Maximum value is 15"
   ]
  },
  {
   "cell_type": "code",
   "execution_count": 28,
   "id": "e2762f4b",
   "metadata": {},
   "outputs": [
    {
     "data": {
      "text/plain": [
       "<AxesSubplot:xlabel='label', ylabel='CNT_FAM_MEMBERS'>"
      ]
     },
     "execution_count": 28,
     "metadata": {},
     "output_type": "execute_result"
    },
    {
     "data": {
      "image/png": "[encoded data removed]",
      "text/plain": [
       "<Figure size 842.4x595.44 with 1 Axes>"
      ]
     },
     "metadata": {},
     "output_type": "display_data"
    }
   ],
   "source": [
    "sns.violinplot(x = \"label\", y=\"CNT_FAM_MEMBERS\", data=input_df)"
   ]
  },
  {
   "cell_type": "code",
   "execution_count": 29,
   "id": "2286dcf4",
   "metadata": {},
   "outputs": [
    {
     "data": {
      "text/html": [
       "<div>\n",
       "<style scoped>\n",
       "    .dataframe tbody tr th:only-of-type {\n",
       "        vertical-align: middle;\n",
       "    }\n",
       "\n",
       "    .dataframe tbody tr th {\n",
       "        vertical-align: top;\n",
       "    }\n",
       "\n",
       "    .dataframe thead th {\n",
       "        text-align: right;\n",
       "    }\n",
       "</style>\n",
       "<table border=\"1\" class=\"dataframe\">\n",
       "  <thead>\n",
       "    <tr style=\"text-align: right;\">\n",
       "      <th></th>\n",
       "      <th>count</th>\n",
       "      <th>mean</th>\n",
       "      <th>std</th>\n",
       "      <th>min</th>\n",
       "      <th>25%</th>\n",
       "      <th>50%</th>\n",
       "      <th>75%</th>\n",
       "      <th>max</th>\n",
       "    </tr>\n",
       "    <tr>\n",
       "      <th>label</th>\n",
       "      <th></th>\n",
       "      <th></th>\n",
       "      <th></th>\n",
       "      <th></th>\n",
       "      <th></th>\n",
       "      <th></th>\n",
       "      <th></th>\n",
       "      <th></th>\n",
       "    </tr>\n",
       "  </thead>\n",
       "  <tbody>\n",
       "    <tr>\n",
       "      <th>bad</th>\n",
       "      <td>278.0</td>\n",
       "      <td>2.046763</td>\n",
       "      <td>0.875647</td>\n",
       "      <td>1.0</td>\n",
       "      <td>1.0</td>\n",
       "      <td>2.0</td>\n",
       "      <td>2.0</td>\n",
       "      <td>6.0</td>\n",
       "    </tr>\n",
       "    <tr>\n",
       "      <th>good</th>\n",
       "      <td>7838.0</td>\n",
       "      <td>2.205920</td>\n",
       "      <td>0.908584</td>\n",
       "      <td>1.0</td>\n",
       "      <td>2.0</td>\n",
       "      <td>2.0</td>\n",
       "      <td>3.0</td>\n",
       "      <td>15.0</td>\n",
       "    </tr>\n",
       "  </tbody>\n",
       "</table>\n",
       "</div>"
      ],
      "text/plain": [
       "        count      mean       std  min  25%  50%  75%   max\n",
       "label                                                      \n",
       "bad     278.0  2.046763  0.875647  1.0  1.0  2.0  2.0   6.0\n",
       "good   7838.0  2.205920  0.908584  1.0  2.0  2.0  3.0  15.0"
      ]
     },
     "execution_count": 29,
     "metadata": {},
     "output_type": "execute_result"
    }
   ],
   "source": [
    "input_df.groupby('label')['CNT_FAM_MEMBERS'].describe()"
   ]
  },
  {
   "cell_type": "code",
   "execution_count": 30,
   "id": "63faff67",
   "metadata": {},
   "outputs": [
    {
     "data": {
      "text/plain": [
       "<AxesSubplot:xlabel='label', ylabel='CNT_CHILDREN'>"
      ]
     },
     "execution_count": 30,
     "metadata": {},
     "output_type": "execute_result"
    },
    {
     "data": {
      "image/png": "[encoded data removed]",
      "text/plain": [
       "<Figure size 842.4x595.44 with 1 Axes>"
      ]
     },
     "metadata": {},
     "output_type": "display_data"
    }
   ],
   "source": [
    "sns.violinplot(x = \"label\", y=\"CNT_CHILDREN\", data=input_df)"
   ]
  },
  {
   "cell_type": "code",
   "execution_count": 31,
   "id": "370de2ec",
   "metadata": {},
   "outputs": [
    {
     "name": "stdout",
     "output_type": "stream",
     "text": [
      "[ 2.  3.  4.  5. 15.]\n",
      "[ 0.  1.  2.  3. 14.]\n"
     ]
    }
   ],
   "source": [
    "print(np.percentile(input_df['CNT_FAM_MEMBERS'], q=[50, 80, 95, 99, 100]))\n",
    "print(np.percentile(input_df['CNT_CHILDREN'], q=[50, 80, 95, 99, 100]))"
   ]
  },
  {
   "cell_type": "code",
   "execution_count": 32,
   "id": "71ec8fe6",
   "metadata": {},
   "outputs": [],
   "source": [
    "input_df[(input_df[\"CNT_FAM_MEMBERS\"] <= 6) & (input_df[\"CNT_CHILDREN\"] <= 4)].reset_index(drop=True, inplace=True)"
   ]
  },
  {
   "cell_type": "markdown",
   "id": "883c4537",
   "metadata": {},
   "source": [
    "###### Convert days_to_birth to years age in years for better interpretability\n",
    "###### convert DAYS_EMPLOYED into employment_in_months and for positive values impute with zero"
   ]
  },
  {
   "cell_type": "code",
   "execution_count": 33,
   "id": "35bd5b69",
   "metadata": {},
   "outputs": [],
   "source": [
    "input_df['age_in_years'] = (-input_df[\"DAYS_BIRTH\"]/365.0)\n",
    "\n",
    "input_df['employment_in_months'] = (input_df[\"DAYS_EMPLOYED\"]/365.0) * 12.0\n",
    "input_df['employment_in_months'] = input_df['employment_in_months'].map(lambda x: 0 if x > 0 else -x)"
   ]
  },
  {
   "cell_type": "markdown",
   "id": "a6dc4575",
   "metadata": {},
   "source": [
    "###### Splitting the data "
   ]
  },
  {
   "cell_type": "code",
   "execution_count": 34,
   "id": "2b7b190e",
   "metadata": {},
   "outputs": [],
   "source": [
    "from sklearn.model_selection import train_test_split\n",
    "from sklearn.tree import DecisionTreeClassifier\n",
    "from sklearn.ensemble import AdaBoostClassifier, RandomForestClassifier\n",
    "from sklearn.metrics import auc, f1_score, confusion_matrix, balanced_accuracy_score"
   ]
  },
  {
   "cell_type": "code",
   "execution_count": 35,
   "id": "2c77e360",
   "metadata": {},
   "outputs": [
    {
     "name": "stdout",
     "output_type": "stream",
     "text": [
      "len of numeric cols:  5\n",
      "len of categorical cols:  11\n",
      "train label :  good    6348\n",
      "bad      225\n",
      "Name: label, dtype: int64\n",
      "\n",
      "Valid label :  good    706\n",
      "bad      25\n",
      "Name: label, dtype: int64\n",
      "\n",
      "test label :  good    784\n",
      "bad      28\n",
      "Name: label, dtype: int64\n"
     ]
    }
   ],
   "source": [
    "numeric_cols = [\"CNT_CHILDREN\", \"AMT_INCOME_TOTAL\", \"age_in_years\", \\\n",
    "                \"employment_in_months\", 'CNT_FAM_MEMBERS']\n",
    "\n",
    "\n",
    "\n",
    "categorical_cols = [\"CODE_GENDER\", \"FLAG_OWN_CAR\", \"FLAG_OWN_REALTY\", \\\n",
    "                    \"NAME_INCOME_TYPE\", \"NAME_EDUCATION_TYPE\", \"NAME_FAMILY_STATUS\", \\\n",
    "                   \"NAME_HOUSING_TYPE\", 'FLAG_WORK_PHONE', 'FLAG_PHONE', 'FLAG_EMAIL', \\\n",
    "                   \"OCCUPATION_TYPE\"]\n",
    "\n",
    "feats = numeric_cols + categorical_cols\n",
    "label_col = 'label'\n",
    "\n",
    "print(\"len of numeric cols: \", len(numeric_cols))\n",
    "print(\"len of categorical cols: \", len(categorical_cols))\n",
    "\n",
    "\n",
    "X_train, X_test, y_train, y_test = train_test_split(input_df[feats], input_df[label_col], \\\n",
    "                                                      stratify=input_df[label_col], test_size=0.1, random_state=99)\n",
    "\n",
    "X_train, X_valid, y_train, y_valid = train_test_split(X_train, y_train, \\\n",
    "                                                      stratify=y_train, test_size=0.1, random_state=99)\n",
    "\n",
    "print('train label : ', y_train.value_counts())\n",
    "print()\n",
    "print('Valid label : ', y_valid.value_counts())\n",
    "print()\n",
    "print('test label : ', y_test.value_counts())\n",
    "\n",
    "# Encode categorical to OHE, SKLEAR ensemble needs the columns to be encoded \n",
    "ohe_input_df = pd.get_dummies(input_df[feats], columns=categorical_cols, drop_first=True)\n",
    "\n",
    "X_train_ohe, X_test_ohe, y_train_ohe, y_test_ohe = train_test_split(ohe_input_df, input_df[label_col], \\\n",
    "                                                    stratify=input_df[label_col], test_size=0.1, random_state=101)\n",
    "\n",
    "X_train_ohe, X_valid_ohe, y_train_ohe, y_valid_ohe = train_test_split(X_train_ohe, y_train_ohe, \\\n",
    "                                                                      stratify=y_train_ohe, test_size=0.1, random_state=101)"
   ]
  },
  {
   "cell_type": "markdown",
   "id": "586a3ce9",
   "metadata": {},
   "source": [
    "###### Training gradient Boosted decesion tree"
   ]
  },
  {
   "cell_type": "code",
   "execution_count": 36,
   "id": "2210fa65",
   "metadata": {},
   "outputs": [],
   "source": [
    "from catboost import CatBoostClassifier, Pool"
   ]
  },
  {
   "cell_type": "code",
   "execution_count": 37,
   "id": "bbc76df0",
   "metadata": {},
   "outputs": [
    {
     "name": "stdout",
     "output_type": "stream",
     "text": [
      "Learning rate set to 0.101613\n",
      "0:\tlearn: 0.6732001\ttest: 0.6753231\tbest: 0.6753231 (0)\ttotal: 196ms\tremaining: 39s\n",
      "1:\tlearn: 0.6525992\ttest: 0.6572598\tbest: 0.6572598 (1)\ttotal: 253ms\tremaining: 25.1s\n",
      "2:\tlearn: 0.6391666\ttest: 0.6483730\tbest: 0.6483730 (2)\ttotal: 319ms\tremaining: 20.9s\n",
      "3:\tlearn: 0.6250441\ttest: 0.6434415\tbest: 0.6434415 (3)\ttotal: 384ms\tremaining: 18.8s\n",
      "4:\tlearn: 0.6056005\ttest: 0.6255155\tbest: 0.6255155 (4)\ttotal: 451ms\tremaining: 17.6s\n",
      "5:\tlearn: 0.5915923\ttest: 0.6340543\tbest: 0.6255155 (4)\ttotal: 516ms\tremaining: 16.7s\n",
      "6:\tlearn: 0.5779289\ttest: 0.6306056\tbest: 0.6255155 (4)\ttotal: 581ms\tremaining: 16s\n",
      "7:\tlearn: 0.5653475\ttest: 0.6218047\tbest: 0.6218047 (7)\ttotal: 649ms\tremaining: 15.6s\n",
      "8:\tlearn: 0.5549531\ttest: 0.6148741\tbest: 0.6148741 (8)\ttotal: 719ms\tremaining: 15.3s\n",
      "9:\tlearn: 0.5468304\ttest: 0.6107163\tbest: 0.6107163 (9)\ttotal: 787ms\tremaining: 14.9s\n",
      "10:\tlearn: 0.5364240\ttest: 0.6146137\tbest: 0.6107163 (9)\ttotal: 857ms\tremaining: 14.7s\n",
      "11:\tlearn: 0.5265413\ttest: 0.6251081\tbest: 0.6107163 (9)\ttotal: 941ms\tremaining: 14.7s\n",
      "12:\tlearn: 0.5185896\ttest: 0.6219674\tbest: 0.6107163 (9)\ttotal: 1.01s\tremaining: 14.6s\n",
      "13:\tlearn: 0.5083055\ttest: 0.6170902\tbest: 0.6107163 (9)\ttotal: 1.09s\tremaining: 14.4s\n",
      "14:\tlearn: 0.5002043\ttest: 0.6093735\tbest: 0.6093735 (14)\ttotal: 1.16s\tremaining: 14.3s\n",
      "15:\tlearn: 0.5001936\ttest: 0.6094068\tbest: 0.6093735 (14)\ttotal: 1.19s\tremaining: 13.7s\n",
      "16:\tlearn: 0.4919437\ttest: 0.6058947\tbest: 0.6058947 (16)\ttotal: 1.25s\tremaining: 13.5s\n",
      "17:\tlearn: 0.4911338\ttest: 0.6060402\tbest: 0.6058947 (16)\ttotal: 1.32s\tremaining: 13.3s\n",
      "18:\tlearn: 0.4874865\ttest: 0.6086384\tbest: 0.6058947 (16)\ttotal: 1.38s\tremaining: 13.2s\n",
      "19:\tlearn: 0.4786339\ttest: 0.6004608\tbest: 0.6004608 (19)\ttotal: 1.45s\tremaining: 13.1s\n",
      "20:\tlearn: 0.4714625\ttest: 0.5980380\tbest: 0.5980380 (20)\ttotal: 1.52s\tremaining: 12.9s\n",
      "21:\tlearn: 0.4589753\ttest: 0.6036674\tbest: 0.5980380 (20)\ttotal: 1.6s\tremaining: 12.9s\n",
      "22:\tlearn: 0.4570323\ttest: 0.6034712\tbest: 0.5980380 (20)\ttotal: 1.67s\tremaining: 12.8s\n",
      "23:\tlearn: 0.4492811\ttest: 0.6041588\tbest: 0.5980380 (20)\ttotal: 1.75s\tremaining: 12.8s\n",
      "24:\tlearn: 0.4394404\ttest: 0.6191480\tbest: 0.5980380 (20)\ttotal: 1.87s\tremaining: 13.1s\n",
      "25:\tlearn: 0.4325765\ttest: 0.6175467\tbest: 0.5980380 (20)\ttotal: 2.01s\tremaining: 13.5s\n",
      "26:\tlearn: 0.4286216\ttest: 0.6211753\tbest: 0.5980380 (20)\ttotal: 2.15s\tremaining: 13.8s\n",
      "27:\tlearn: 0.4217240\ttest: 0.6202230\tbest: 0.5980380 (20)\ttotal: 2.28s\tremaining: 14s\n",
      "28:\tlearn: 0.4192321\ttest: 0.6197703\tbest: 0.5980380 (20)\ttotal: 2.42s\tremaining: 14.3s\n",
      "29:\tlearn: 0.4175560\ttest: 0.6186202\tbest: 0.5980380 (20)\ttotal: 2.57s\tremaining: 14.6s\n",
      "30:\tlearn: 0.4139995\ttest: 0.6225685\tbest: 0.5980380 (20)\ttotal: 2.7s\tremaining: 14.7s\n",
      "31:\tlearn: 0.4098364\ttest: 0.6222543\tbest: 0.5980380 (20)\ttotal: 2.84s\tremaining: 14.9s\n",
      "32:\tlearn: 0.4085931\ttest: 0.6218001\tbest: 0.5980380 (20)\ttotal: 2.98s\tremaining: 15.1s\n",
      "33:\tlearn: 0.4040333\ttest: 0.6206723\tbest: 0.5980380 (20)\ttotal: 3.12s\tremaining: 15.2s\n",
      "34:\tlearn: 0.4007167\ttest: 0.6181423\tbest: 0.5980380 (20)\ttotal: 3.24s\tremaining: 15.3s\n",
      "35:\tlearn: 0.3985152\ttest: 0.6180777\tbest: 0.5980380 (20)\ttotal: 3.39s\tremaining: 15.4s\n",
      "36:\tlearn: 0.3941569\ttest: 0.6241468\tbest: 0.5980380 (20)\ttotal: 3.52s\tremaining: 15.5s\n",
      "37:\tlearn: 0.3890127\ttest: 0.6329009\tbest: 0.5980380 (20)\ttotal: 3.67s\tremaining: 15.6s\n",
      "38:\tlearn: 0.3854069\ttest: 0.6301353\tbest: 0.5980380 (20)\ttotal: 3.81s\tremaining: 15.7s\n",
      "39:\tlearn: 0.3804521\ttest: 0.6241496\tbest: 0.5980380 (20)\ttotal: 3.96s\tremaining: 15.8s\n",
      "40:\tlearn: 0.3739897\ttest: 0.6238317\tbest: 0.5980380 (20)\ttotal: 4.09s\tremaining: 15.9s\n",
      "41:\tlearn: 0.3690710\ttest: 0.6228535\tbest: 0.5980380 (20)\ttotal: 4.22s\tremaining: 15.9s\n",
      "42:\tlearn: 0.3670151\ttest: 0.6209189\tbest: 0.5980380 (20)\ttotal: 4.36s\tremaining: 15.9s\n",
      "43:\tlearn: 0.3650806\ttest: 0.6197440\tbest: 0.5980380 (20)\ttotal: 4.5s\tremaining: 16s\n",
      "44:\tlearn: 0.3591954\ttest: 0.6216003\tbest: 0.5980380 (20)\ttotal: 4.63s\tremaining: 16s\n",
      "45:\tlearn: 0.3556687\ttest: 0.6213901\tbest: 0.5980380 (20)\ttotal: 4.78s\tremaining: 16s\n",
      "46:\tlearn: 0.3500033\ttest: 0.6263467\tbest: 0.5980380 (20)\ttotal: 4.91s\tremaining: 16s\n",
      "47:\tlearn: 0.3467021\ttest: 0.6218212\tbest: 0.5980380 (20)\ttotal: 5.05s\tremaining: 16s\n",
      "48:\tlearn: 0.3428635\ttest: 0.6170442\tbest: 0.5980380 (20)\ttotal: 5.2s\tremaining: 16s\n",
      "49:\tlearn: 0.3393675\ttest: 0.6157025\tbest: 0.5980380 (20)\ttotal: 5.33s\tremaining: 16s\n",
      "50:\tlearn: 0.3348981\ttest: 0.6175922\tbest: 0.5980380 (20)\ttotal: 5.46s\tremaining: 16s\n",
      "51:\tlearn: 0.3295593\ttest: 0.6155569\tbest: 0.5980380 (20)\ttotal: 5.6s\tremaining: 15.9s\n",
      "52:\tlearn: 0.3259987\ttest: 0.6151470\tbest: 0.5980380 (20)\ttotal: 5.73s\tremaining: 15.9s\n",
      "53:\tlearn: 0.3250785\ttest: 0.6152191\tbest: 0.5980380 (20)\ttotal: 5.86s\tremaining: 15.8s\n",
      "54:\tlearn: 0.3238307\ttest: 0.6135305\tbest: 0.5980380 (20)\ttotal: 5.99s\tremaining: 15.8s\n",
      "55:\tlearn: 0.3198153\ttest: 0.6138243\tbest: 0.5980380 (20)\ttotal: 6.13s\tremaining: 15.8s\n",
      "56:\tlearn: 0.3189664\ttest: 0.6128321\tbest: 0.5980380 (20)\ttotal: 6.25s\tremaining: 15.7s\n",
      "57:\tlearn: 0.3172689\ttest: 0.6125535\tbest: 0.5980380 (20)\ttotal: 6.39s\tremaining: 15.6s\n",
      "58:\tlearn: 0.3151247\ttest: 0.6092119\tbest: 0.5980380 (20)\ttotal: 6.52s\tremaining: 15.6s\n",
      "59:\tlearn: 0.3132591\ttest: 0.6103704\tbest: 0.5980380 (20)\ttotal: 6.66s\tremaining: 15.5s\n",
      "60:\tlearn: 0.3089443\ttest: 0.6122188\tbest: 0.5980380 (20)\ttotal: 6.8s\tremaining: 15.5s\n",
      "61:\tlearn: 0.3066787\ttest: 0.6107877\tbest: 0.5980380 (20)\ttotal: 6.93s\tremaining: 15.4s\n",
      "62:\tlearn: 0.3062157\ttest: 0.6107894\tbest: 0.5980380 (20)\ttotal: 7.07s\tremaining: 15.4s\n",
      "63:\tlearn: 0.3062080\ttest: 0.6105843\tbest: 0.5980380 (20)\ttotal: 7.09s\tremaining: 15.1s\n",
      "64:\tlearn: 0.3039918\ttest: 0.6096138\tbest: 0.5980380 (20)\ttotal: 7.21s\tremaining: 15s\n",
      "65:\tlearn: 0.3023695\ttest: 0.6123633\tbest: 0.5980380 (20)\ttotal: 7.36s\tremaining: 14.9s\n",
      "66:\tlearn: 0.3023640\ttest: 0.6121867\tbest: 0.5980380 (20)\ttotal: 7.38s\tremaining: 14.7s\n",
      "67:\tlearn: 0.3010255\ttest: 0.6142926\tbest: 0.5980380 (20)\ttotal: 7.51s\tremaining: 14.6s\n",
      "68:\tlearn: 0.2990211\ttest: 0.6144675\tbest: 0.5980380 (20)\ttotal: 7.65s\tremaining: 14.5s\n",
      "69:\tlearn: 0.2978534\ttest: 0.6141499\tbest: 0.5980380 (20)\ttotal: 7.8s\tremaining: 14.5s\n",
      "70:\tlearn: 0.2953586\ttest: 0.6169061\tbest: 0.5980380 (20)\ttotal: 7.94s\tremaining: 14.4s\n",
      "71:\tlearn: 0.2905017\ttest: 0.6203875\tbest: 0.5980380 (20)\ttotal: 8.07s\tremaining: 14.4s\n",
      "72:\tlearn: 0.2890136\ttest: 0.6205170\tbest: 0.5980380 (20)\ttotal: 8.19s\tremaining: 14.2s\n",
      "73:\tlearn: 0.2846106\ttest: 0.6270042\tbest: 0.5980380 (20)\ttotal: 8.33s\tremaining: 14.2s\n",
      "74:\tlearn: 0.2834018\ttest: 0.6290020\tbest: 0.5980380 (20)\ttotal: 8.47s\tremaining: 14.1s\n",
      "75:\tlearn: 0.2812855\ttest: 0.6331790\tbest: 0.5980380 (20)\ttotal: 8.61s\tremaining: 14s\n",
      "76:\tlearn: 0.2779157\ttest: 0.6331058\tbest: 0.5980380 (20)\ttotal: 8.74s\tremaining: 14s\n",
      "77:\tlearn: 0.2747109\ttest: 0.6361703\tbest: 0.5980380 (20)\ttotal: 8.88s\tremaining: 13.9s\n",
      "78:\tlearn: 0.2734977\ttest: 0.6346510\tbest: 0.5980380 (20)\ttotal: 9.01s\tremaining: 13.8s\n",
      "79:\tlearn: 0.2709819\ttest: 0.6406662\tbest: 0.5980380 (20)\ttotal: 9.15s\tremaining: 13.7s\n",
      "80:\tlearn: 0.2679560\ttest: 0.6428984\tbest: 0.5980380 (20)\ttotal: 9.29s\tremaining: 13.6s\n",
      "81:\tlearn: 0.2659155\ttest: 0.6386905\tbest: 0.5980380 (20)\ttotal: 9.43s\tremaining: 13.6s\n",
      "82:\tlearn: 0.2652027\ttest: 0.6395729\tbest: 0.5980380 (20)\ttotal: 9.58s\tremaining: 13.5s\n",
      "83:\tlearn: 0.2630567\ttest: 0.6439272\tbest: 0.5980380 (20)\ttotal: 9.72s\tremaining: 13.4s\n",
      "84:\tlearn: 0.2612451\ttest: 0.6448909\tbest: 0.5980380 (20)\ttotal: 9.86s\tremaining: 13.3s\n",
      "85:\tlearn: 0.2582812\ttest: 0.6427047\tbest: 0.5980380 (20)\ttotal: 9.98s\tremaining: 13.2s\n",
      "86:\tlearn: 0.2573793\ttest: 0.6427795\tbest: 0.5980380 (20)\ttotal: 10.1s\tremaining: 13.1s\n",
      "87:\tlearn: 0.2545341\ttest: 0.6454370\tbest: 0.5980380 (20)\ttotal: 10.2s\tremaining: 13s\n",
      "88:\tlearn: 0.2527975\ttest: 0.6441878\tbest: 0.5980380 (20)\ttotal: 10.4s\tremaining: 12.9s\n",
      "89:\tlearn: 0.2503564\ttest: 0.6457885\tbest: 0.5980380 (20)\ttotal: 10.5s\tremaining: 12.8s\n",
      "90:\tlearn: 0.2484381\ttest: 0.6422818\tbest: 0.5980380 (20)\ttotal: 10.6s\tremaining: 12.7s\n",
      "91:\tlearn: 0.2462042\ttest: 0.6404919\tbest: 0.5980380 (20)\ttotal: 10.7s\tremaining: 12.6s\n",
      "92:\tlearn: 0.2429942\ttest: 0.6371600\tbest: 0.5980380 (20)\ttotal: 10.9s\tremaining: 12.5s\n",
      "93:\tlearn: 0.2404326\ttest: 0.6364282\tbest: 0.5980380 (20)\ttotal: 11s\tremaining: 12.4s\n"
     ]
    },
    {
     "name": "stdout",
     "output_type": "stream",
     "text": [
      "94:\tlearn: 0.2362336\ttest: 0.6348952\tbest: 0.5980380 (20)\ttotal: 11.1s\tremaining: 12.3s\n",
      "95:\tlearn: 0.2353810\ttest: 0.6383965\tbest: 0.5980380 (20)\ttotal: 11.3s\tremaining: 12.2s\n",
      "96:\tlearn: 0.2330904\ttest: 0.6395800\tbest: 0.5980380 (20)\ttotal: 11.4s\tremaining: 12.1s\n",
      "97:\tlearn: 0.2323837\ttest: 0.6408024\tbest: 0.5980380 (20)\ttotal: 11.6s\tremaining: 12s\n",
      "98:\tlearn: 0.2308722\ttest: 0.6392473\tbest: 0.5980380 (20)\ttotal: 11.7s\tremaining: 11.9s\n",
      "99:\tlearn: 0.2295757\ttest: 0.6373602\tbest: 0.5980380 (20)\ttotal: 11.8s\tremaining: 11.8s\n",
      "100:\tlearn: 0.2275535\ttest: 0.6338624\tbest: 0.5980380 (20)\ttotal: 12s\tremaining: 11.7s\n",
      "101:\tlearn: 0.2268429\ttest: 0.6346622\tbest: 0.5980380 (20)\ttotal: 12.1s\tremaining: 11.6s\n",
      "102:\tlearn: 0.2241170\ttest: 0.6421442\tbest: 0.5980380 (20)\ttotal: 12.2s\tremaining: 11.5s\n",
      "103:\tlearn: 0.2208032\ttest: 0.6465841\tbest: 0.5980380 (20)\ttotal: 12.4s\tremaining: 11.4s\n",
      "104:\tlearn: 0.2185695\ttest: 0.6426052\tbest: 0.5980380 (20)\ttotal: 12.5s\tremaining: 11.3s\n",
      "105:\tlearn: 0.2150031\ttest: 0.6494332\tbest: 0.5980380 (20)\ttotal: 12.6s\tremaining: 11.2s\n",
      "106:\tlearn: 0.2138216\ttest: 0.6492175\tbest: 0.5980380 (20)\ttotal: 12.7s\tremaining: 11.1s\n",
      "107:\tlearn: 0.2130706\ttest: 0.6504962\tbest: 0.5980380 (20)\ttotal: 12.9s\tremaining: 11s\n",
      "108:\tlearn: 0.2127994\ttest: 0.6516269\tbest: 0.5980380 (20)\ttotal: 13s\tremaining: 10.9s\n",
      "109:\tlearn: 0.2103778\ttest: 0.6552409\tbest: 0.5980380 (20)\ttotal: 13.1s\tremaining: 10.8s\n",
      "110:\tlearn: 0.2094456\ttest: 0.6559788\tbest: 0.5980380 (20)\ttotal: 13.3s\tremaining: 10.6s\n",
      "111:\tlearn: 0.2076241\ttest: 0.6579648\tbest: 0.5980380 (20)\ttotal: 13.4s\tremaining: 10.5s\n",
      "112:\tlearn: 0.2068556\ttest: 0.6573407\tbest: 0.5980380 (20)\ttotal: 13.5s\tremaining: 10.4s\n",
      "113:\tlearn: 0.2053119\ttest: 0.6636606\tbest: 0.5980380 (20)\ttotal: 13.7s\tremaining: 10.3s\n",
      "114:\tlearn: 0.2038719\ttest: 0.6691572\tbest: 0.5980380 (20)\ttotal: 13.8s\tremaining: 10.2s\n",
      "115:\tlearn: 0.2021989\ttest: 0.6731667\tbest: 0.5980380 (20)\ttotal: 13.9s\tremaining: 10.1s\n",
      "116:\tlearn: 0.1998160\ttest: 0.6721731\tbest: 0.5980380 (20)\ttotal: 14.1s\tremaining: 9.98s\n",
      "117:\tlearn: 0.1983851\ttest: 0.6730644\tbest: 0.5980380 (20)\ttotal: 14.2s\tremaining: 9.86s\n",
      "118:\tlearn: 0.1976568\ttest: 0.6725871\tbest: 0.5980380 (20)\ttotal: 14.3s\tremaining: 9.75s\n",
      "119:\tlearn: 0.1964544\ttest: 0.6788362\tbest: 0.5980380 (20)\ttotal: 14.5s\tremaining: 9.64s\n",
      "120:\tlearn: 0.1958179\ttest: 0.6785735\tbest: 0.5980380 (20)\ttotal: 14.6s\tremaining: 9.54s\n",
      "121:\tlearn: 0.1951122\ttest: 0.6779181\tbest: 0.5980380 (20)\ttotal: 14.7s\tremaining: 9.43s\n",
      "122:\tlearn: 0.1937858\ttest: 0.6755847\tbest: 0.5980380 (20)\ttotal: 14.9s\tremaining: 9.32s\n",
      "123:\tlearn: 0.1917410\ttest: 0.6695712\tbest: 0.5980380 (20)\ttotal: 15s\tremaining: 9.2s\n",
      "124:\tlearn: 0.1900601\ttest: 0.6674827\tbest: 0.5980380 (20)\ttotal: 15.1s\tremaining: 9.08s\n",
      "125:\tlearn: 0.1888106\ttest: 0.6663851\tbest: 0.5980380 (20)\ttotal: 15.3s\tremaining: 8.96s\n",
      "126:\tlearn: 0.1868740\ttest: 0.6632786\tbest: 0.5980380 (20)\ttotal: 15.4s\tremaining: 8.85s\n",
      "127:\tlearn: 0.1856378\ttest: 0.6669330\tbest: 0.5980380 (20)\ttotal: 15.5s\tremaining: 8.74s\n",
      "128:\tlearn: 0.1850579\ttest: 0.6671332\tbest: 0.5980380 (20)\ttotal: 15.7s\tremaining: 8.63s\n",
      "129:\tlearn: 0.1829906\ttest: 0.6775623\tbest: 0.5980380 (20)\ttotal: 15.8s\tremaining: 8.51s\n",
      "130:\tlearn: 0.1820386\ttest: 0.6765226\tbest: 0.5980380 (20)\ttotal: 15.9s\tremaining: 8.4s\n",
      "131:\tlearn: 0.1815861\ttest: 0.6786049\tbest: 0.5980380 (20)\ttotal: 16.1s\tremaining: 8.28s\n",
      "132:\tlearn: 0.1805454\ttest: 0.6792369\tbest: 0.5980380 (20)\ttotal: 16.2s\tremaining: 8.16s\n",
      "133:\tlearn: 0.1779446\ttest: 0.6882826\tbest: 0.5980380 (20)\ttotal: 16.4s\tremaining: 8.06s\n",
      "134:\tlearn: 0.1764294\ttest: 0.6876176\tbest: 0.5980380 (20)\ttotal: 16.5s\tremaining: 7.95s\n",
      "135:\tlearn: 0.1761396\ttest: 0.6867970\tbest: 0.5980380 (20)\ttotal: 16.6s\tremaining: 7.83s\n",
      "136:\tlearn: 0.1748561\ttest: 0.6916658\tbest: 0.5980380 (20)\ttotal: 16.8s\tremaining: 7.71s\n",
      "137:\tlearn: 0.1738955\ttest: 0.6908720\tbest: 0.5980380 (20)\ttotal: 16.9s\tremaining: 7.6s\n",
      "138:\tlearn: 0.1726949\ttest: 0.6943766\tbest: 0.5980380 (20)\ttotal: 17s\tremaining: 7.48s\n",
      "139:\tlearn: 0.1703373\ttest: 0.6955599\tbest: 0.5980380 (20)\ttotal: 17.2s\tremaining: 7.36s\n",
      "140:\tlearn: 0.1691926\ttest: 0.6959712\tbest: 0.5980380 (20)\ttotal: 17.3s\tremaining: 7.24s\n",
      "141:\tlearn: 0.1679113\ttest: 0.6953611\tbest: 0.5980380 (20)\ttotal: 17.4s\tremaining: 7.12s\n",
      "142:\tlearn: 0.1668650\ttest: 0.6969743\tbest: 0.5980380 (20)\ttotal: 17.6s\tremaining: 7s\n",
      "143:\tlearn: 0.1661296\ttest: 0.6965523\tbest: 0.5980380 (20)\ttotal: 17.7s\tremaining: 6.89s\n",
      "144:\tlearn: 0.1636346\ttest: 0.7080786\tbest: 0.5980380 (20)\ttotal: 17.9s\tremaining: 6.77s\n",
      "145:\tlearn: 0.1631814\ttest: 0.7095350\tbest: 0.5980380 (20)\ttotal: 18s\tremaining: 6.66s\n",
      "146:\tlearn: 0.1622371\ttest: 0.7082026\tbest: 0.5980380 (20)\ttotal: 18.1s\tremaining: 6.53s\n",
      "147:\tlearn: 0.1609981\ttest: 0.7076339\tbest: 0.5980380 (20)\ttotal: 18.2s\tremaining: 6.41s\n",
      "148:\tlearn: 0.1593766\ttest: 0.7064121\tbest: 0.5980380 (20)\ttotal: 18.4s\tremaining: 6.29s\n",
      "149:\tlearn: 0.1583823\ttest: 0.7071959\tbest: 0.5980380 (20)\ttotal: 18.5s\tremaining: 6.17s\n",
      "150:\tlearn: 0.1577107\ttest: 0.7069418\tbest: 0.5980380 (20)\ttotal: 18.7s\tremaining: 6.06s\n",
      "151:\tlearn: 0.1561154\ttest: 0.7051261\tbest: 0.5980380 (20)\ttotal: 18.8s\tremaining: 5.94s\n",
      "152:\tlearn: 0.1548998\ttest: 0.7092861\tbest: 0.5980380 (20)\ttotal: 18.9s\tremaining: 5.81s\n",
      "153:\tlearn: 0.1540447\ttest: 0.7078185\tbest: 0.5980380 (20)\ttotal: 19.1s\tremaining: 5.69s\n",
      "154:\tlearn: 0.1536333\ttest: 0.7060343\tbest: 0.5980380 (20)\ttotal: 19.2s\tremaining: 5.57s\n",
      "155:\tlearn: 0.1532867\ttest: 0.7096958\tbest: 0.5980380 (20)\ttotal: 19.3s\tremaining: 5.45s\n",
      "156:\tlearn: 0.1513318\ttest: 0.7101162\tbest: 0.5980380 (20)\ttotal: 19.4s\tremaining: 5.33s\n",
      "157:\tlearn: 0.1502877\ttest: 0.7070046\tbest: 0.5980380 (20)\ttotal: 19.6s\tremaining: 5.21s\n",
      "158:\tlearn: 0.1486470\ttest: 0.7065829\tbest: 0.5980380 (20)\ttotal: 19.7s\tremaining: 5.08s\n",
      "159:\tlearn: 0.1479517\ttest: 0.7075942\tbest: 0.5980380 (20)\ttotal: 19.9s\tremaining: 4.97s\n",
      "160:\tlearn: 0.1465178\ttest: 0.7083474\tbest: 0.5980380 (20)\ttotal: 20s\tremaining: 4.85s\n",
      "161:\tlearn: 0.1458373\ttest: 0.7085566\tbest: 0.5980380 (20)\ttotal: 20.1s\tremaining: 4.72s\n",
      "162:\tlearn: 0.1448802\ttest: 0.7121052\tbest: 0.5980380 (20)\ttotal: 20.3s\tremaining: 4.6s\n",
      "163:\tlearn: 0.1441762\ttest: 0.7118121\tbest: 0.5980380 (20)\ttotal: 20.4s\tremaining: 4.48s\n",
      "164:\tlearn: 0.1423492\ttest: 0.7225722\tbest: 0.5980380 (20)\ttotal: 20.6s\tremaining: 4.36s\n",
      "165:\tlearn: 0.1422165\ttest: 0.7227246\tbest: 0.5980380 (20)\ttotal: 20.7s\tremaining: 4.24s\n",
      "166:\tlearn: 0.1412609\ttest: 0.7252351\tbest: 0.5980380 (20)\ttotal: 20.8s\tremaining: 4.12s\n",
      "167:\tlearn: 0.1410549\ttest: 0.7247854\tbest: 0.5980380 (20)\ttotal: 21s\tremaining: 4s\n",
      "168:\tlearn: 0.1403481\ttest: 0.7264703\tbest: 0.5980380 (20)\ttotal: 21.1s\tremaining: 3.87s\n",
      "169:\tlearn: 0.1390602\ttest: 0.7283734\tbest: 0.5980380 (20)\ttotal: 21.2s\tremaining: 3.75s\n",
      "170:\tlearn: 0.1384990\ttest: 0.7296804\tbest: 0.5980380 (20)\ttotal: 21.4s\tremaining: 3.62s\n",
      "171:\tlearn: 0.1375427\ttest: 0.7302238\tbest: 0.5980380 (20)\ttotal: 21.5s\tremaining: 3.5s\n",
      "172:\tlearn: 0.1368742\ttest: 0.7298809\tbest: 0.5980380 (20)\ttotal: 21.7s\tremaining: 3.38s\n",
      "173:\tlearn: 0.1367360\ttest: 0.7303468\tbest: 0.5980380 (20)\ttotal: 21.8s\tremaining: 3.25s\n",
      "174:\tlearn: 0.1363722\ttest: 0.7317030\tbest: 0.5980380 (20)\ttotal: 21.9s\tremaining: 3.13s\n",
      "175:\tlearn: 0.1349315\ttest: 0.7319668\tbest: 0.5980380 (20)\ttotal: 22s\tremaining: 3s\n",
      "176:\tlearn: 0.1339591\ttest: 0.7311479\tbest: 0.5980380 (20)\ttotal: 22.2s\tremaining: 2.88s\n",
      "177:\tlearn: 0.1324149\ttest: 0.7325049\tbest: 0.5980380 (20)\ttotal: 22.3s\tremaining: 2.76s\n",
      "178:\tlearn: 0.1314960\ttest: 0.7342474\tbest: 0.5980380 (20)\ttotal: 22.4s\tremaining: 2.63s\n",
      "179:\tlearn: 0.1311032\ttest: 0.7353748\tbest: 0.5980380 (20)\ttotal: 22.6s\tremaining: 2.51s\n",
      "180:\tlearn: 0.1307241\ttest: 0.7369716\tbest: 0.5980380 (20)\ttotal: 22.7s\tremaining: 2.38s\n",
      "181:\tlearn: 0.1304572\ttest: 0.7372696\tbest: 0.5980380 (20)\ttotal: 22.8s\tremaining: 2.26s\n",
      "182:\tlearn: 0.1297901\ttest: 0.7409346\tbest: 0.5980380 (20)\ttotal: 23s\tremaining: 2.13s\n",
      "183:\tlearn: 0.1278214\ttest: 0.7430975\tbest: 0.5980380 (20)\ttotal: 23.1s\tremaining: 2.01s\n",
      "184:\tlearn: 0.1274676\ttest: 0.7429348\tbest: 0.5980380 (20)\ttotal: 23.2s\tremaining: 1.88s\n",
      "185:\tlearn: 0.1270468\ttest: 0.7456766\tbest: 0.5980380 (20)\ttotal: 23.4s\tremaining: 1.76s\n",
      "186:\tlearn: 0.1254215\ttest: 0.7452446\tbest: 0.5980380 (20)\ttotal: 23.5s\tremaining: 1.63s\n",
      "187:\tlearn: 0.1244860\ttest: 0.7475735\tbest: 0.5980380 (20)\ttotal: 23.6s\tremaining: 1.51s\n"
     ]
    },
    {
     "name": "stdout",
     "output_type": "stream",
     "text": [
      "188:\tlearn: 0.1235467\ttest: 0.7482096\tbest: 0.5980380 (20)\ttotal: 23.8s\tremaining: 1.38s\n",
      "189:\tlearn: 0.1229131\ttest: 0.7475847\tbest: 0.5980380 (20)\ttotal: 23.9s\tremaining: 1.26s\n",
      "190:\tlearn: 0.1217610\ttest: 0.7480341\tbest: 0.5980380 (20)\ttotal: 24s\tremaining: 1.13s\n",
      "191:\tlearn: 0.1207859\ttest: 0.7534779\tbest: 0.5980380 (20)\ttotal: 24.2s\tremaining: 1.01s\n",
      "192:\tlearn: 0.1205922\ttest: 0.7538904\tbest: 0.5980380 (20)\ttotal: 24.3s\tremaining: 881ms\n",
      "193:\tlearn: 0.1200024\ttest: 0.7584167\tbest: 0.5980380 (20)\ttotal: 24.4s\tremaining: 756ms\n",
      "194:\tlearn: 0.1195525\ttest: 0.7587179\tbest: 0.5980380 (20)\ttotal: 24.6s\tremaining: 630ms\n",
      "195:\tlearn: 0.1188079\ttest: 0.7632602\tbest: 0.5980380 (20)\ttotal: 24.7s\tremaining: 504ms\n",
      "196:\tlearn: 0.1173137\ttest: 0.7695178\tbest: 0.5980380 (20)\ttotal: 24.9s\tremaining: 378ms\n",
      "197:\tlearn: 0.1170617\ttest: 0.7692979\tbest: 0.5980380 (20)\ttotal: 25s\tremaining: 253ms\n",
      "198:\tlearn: 0.1164484\ttest: 0.7699416\tbest: 0.5980380 (20)\ttotal: 25.1s\tremaining: 126ms\n",
      "199:\tlearn: 0.1156974\ttest: 0.7691648\tbest: 0.5980380 (20)\ttotal: 25.3s\tremaining: 0us\n",
      "\n",
      "bestTest = 0.5980379622\n",
      "bestIteration = 20\n",
      "\n",
      "Shrink model to first 21 iterations.\n",
      "get best iteration:  20\n"
     ]
    }
   ],
   "source": [
    "pool_train_data = Pool(X_train, y_train, cat_features=categorical_cols)\n",
    "pool_valid_data = Pool(X_valid, y_valid, cat_features=categorical_cols)\n",
    "\n",
    "#scale_pos_weight=0.2, class_weights=(10, 1), default is 500\n",
    "model = CatBoostClassifier(verbose=True, use_best_model=True, scale_pos_weight=0.05, iterations= 200)\n",
    "\n",
    "model.fit(pool_train_data, eval_set=pool_valid_data)\n",
    "print(\"get best iteration: \", model.get_best_iteration())"
   ]
  },
  {
   "cell_type": "code",
   "execution_count": 38,
   "id": "abc07e29",
   "metadata": {},
   "outputs": [
    {
     "data": {
      "text/html": [
       "<div>\n",
       "<style scoped>\n",
       "    .dataframe tbody tr th:only-of-type {\n",
       "        vertical-align: middle;\n",
       "    }\n",
       "\n",
       "    .dataframe tbody tr th {\n",
       "        vertical-align: top;\n",
       "    }\n",
       "\n",
       "    .dataframe thead th {\n",
       "        text-align: right;\n",
       "    }\n",
       "</style>\n",
       "<table border=\"1\" class=\"dataframe\">\n",
       "  <thead>\n",
       "    <tr style=\"text-align: right;\">\n",
       "      <th></th>\n",
       "      <th>GT_BAD</th>\n",
       "      <th>GT_GOOD</th>\n",
       "    </tr>\n",
       "  </thead>\n",
       "  <tbody>\n",
       "    <tr>\n",
       "      <th>PREDS_BAD</th>\n",
       "      <td>11</td>\n",
       "      <td>40</td>\n",
       "    </tr>\n",
       "    <tr>\n",
       "      <th>PREDS_GOOD</th>\n",
       "      <td>14</td>\n",
       "      <td>666</td>\n",
       "    </tr>\n",
       "  </tbody>\n",
       "</table>\n",
       "</div>"
      ],
      "text/plain": [
       "            GT_BAD  GT_GOOD\n",
       "PREDS_BAD       11       40\n",
       "PREDS_GOOD      14      666"
      ]
     },
     "execution_count": 38,
     "metadata": {},
     "output_type": "execute_result"
    }
   ],
   "source": [
    "predictions = ['good' if val >= 0.5 else 'bad' for val in model.predict_proba(pool_valid_data)[:, 1]]\n",
    "cf_df = pd.DataFrame(confusion_matrix(y_valid, predictions).T, columns=[\"GT_BAD\", \"GT_GOOD\"], \\\n",
    "                     index = [\"PREDS_BAD\", \"PREDS_GOOD\"])\n",
    "cf_df"
   ]
  },
  {
   "cell_type": "code",
   "execution_count": 39,
   "id": "3e0cc0e2",
   "metadata": {},
   "outputs": [
    {
     "data": {
      "text/plain": [
       "array(['bad', 'good'], dtype=object)"
      ]
     },
     "execution_count": 39,
     "metadata": {},
     "output_type": "execute_result"
    }
   ],
   "source": [
    "model.classes_"
   ]
  },
  {
   "cell_type": "markdown",
   "id": "991517d3",
   "metadata": {},
   "source": [
    "###### Handling Imbalance problem by applying different sampling techniques"
   ]
  },
  {
   "cell_type": "code",
   "execution_count": 40,
   "id": "91294b3b",
   "metadata": {},
   "outputs": [],
   "source": [
    "from imblearn.over_sampling import SMOTENC\n",
    "from imblearn.under_sampling import RandomUnderSampler\n",
    "from imblearn.pipeline import Pipeline"
   ]
  },
  {
   "cell_type": "markdown",
   "id": "ccc895f5",
   "metadata": {},
   "source": [
    "###### Perform SMOTE to create synthetic minority samples using KNN and also perform undersampling on Majority class.\n",
    "\n",
    "###### Applied class weights, to weigh the negative examples more "
   ]
  },
  {
   "cell_type": "code",
   "execution_count": 41,
   "id": "81e22d3f",
   "metadata": {},
   "outputs": [
    {
     "name": "stdout",
     "output_type": "stream",
     "text": [
      "SMOTE value_counts:  good    6348\n",
      "bad      317\n",
      "Name: label, dtype: int64\n",
      "Undersampling value_counts:  good    3170\n",
      "bad      317\n",
      "Name: label, dtype: int64\n"
     ]
    }
   ],
   "source": [
    "cat_feats_mask = [True if col in categorical_cols else False for col in X_train.columns]\n",
    "smote_over = SMOTENC(categorical_features=cat_feats_mask, sampling_strategy=0.05)\n",
    "under = RandomUnderSampler(sampling_strategy=0.1)\n",
    "\n",
    "X_resampled, y_resampled = smote_over.fit_resample(X_train, y_train)\n",
    "print(\"SMOTE value_counts: \", y_resampled.value_counts())\n",
    "\n",
    "X_resampled, y_resampled = under.fit_resample(X_resampled, y_resampled)\n",
    "print(\"Undersampling value_counts: \", y_resampled.value_counts())"
   ]
  },
  {
   "cell_type": "code",
   "execution_count": 42,
   "id": "4029cb66",
   "metadata": {},
   "outputs": [],
   "source": [
    "resampled_df = pd.concat([X_resampled, y_resampled], axis = 1).sample(frac=1)\n",
    "X_train_resampled, y_train_resampled  = resampled_df[feats], resampled_df[label_col]"
   ]
  },
  {
   "cell_type": "code",
   "execution_count": 43,
   "id": "407ee8f3",
   "metadata": {},
   "outputs": [
    {
     "name": "stdout",
     "output_type": "stream",
     "text": [
      "Learning rate set to 0.058323\n",
      "0:\tlearn: 0.6861656\ttest: 0.6901026\tbest: 0.6901026 (0)\ttotal: 93.6ms\tremaining: 46.7s\n",
      "1:\tlearn: 0.6795155\ttest: 0.6841669\tbest: 0.6841669 (1)\ttotal: 219ms\tremaining: 54.6s\n",
      "2:\tlearn: 0.6746064\ttest: 0.6795639\tbest: 0.6795639 (2)\ttotal: 346ms\tremaining: 57.2s\n",
      "3:\tlearn: 0.6668233\ttest: 0.6769413\tbest: 0.6769413 (3)\ttotal: 471ms\tremaining: 58.4s\n",
      "4:\tlearn: 0.6644925\ttest: 0.6757565\tbest: 0.6757565 (4)\ttotal: 560ms\tremaining: 55.4s\n",
      "5:\tlearn: 0.6613722\ttest: 0.6724564\tbest: 0.6724564 (5)\ttotal: 687ms\tremaining: 56.6s\n",
      "6:\tlearn: 0.6561618\ttest: 0.6692298\tbest: 0.6692298 (6)\ttotal: 811ms\tremaining: 57.1s\n",
      "7:\tlearn: 0.6544121\ttest: 0.6669278\tbest: 0.6669278 (7)\ttotal: 892ms\tremaining: 54.8s\n",
      "8:\tlearn: 0.6501232\ttest: 0.6638408\tbest: 0.6638408 (8)\ttotal: 1.03s\tremaining: 56.3s\n",
      "9:\tlearn: 0.6480117\ttest: 0.6622580\tbest: 0.6622580 (9)\ttotal: 1.16s\tremaining: 56.8s\n",
      "10:\tlearn: 0.6429364\ttest: 0.6617297\tbest: 0.6617297 (10)\ttotal: 1.3s\tremaining: 57.7s\n",
      "11:\tlearn: 0.6401106\ttest: 0.6610867\tbest: 0.6610867 (11)\ttotal: 1.43s\tremaining: 58.2s\n",
      "12:\tlearn: 0.6351247\ttest: 0.6553401\tbest: 0.6553401 (12)\ttotal: 1.56s\tremaining: 58.6s\n",
      "13:\tlearn: 0.6329698\ttest: 0.6543589\tbest: 0.6543589 (13)\ttotal: 1.69s\tremaining: 58.6s\n",
      "14:\tlearn: 0.6299984\ttest: 0.6517657\tbest: 0.6517657 (14)\ttotal: 1.81s\tremaining: 58.7s\n",
      "15:\tlearn: 0.6259450\ttest: 0.6492505\tbest: 0.6492505 (15)\ttotal: 1.95s\tremaining: 59.1s\n",
      "16:\tlearn: 0.6246596\ttest: 0.6490534\tbest: 0.6490534 (16)\ttotal: 2.02s\tremaining: 57.6s\n",
      "17:\tlearn: 0.6208880\ttest: 0.6479478\tbest: 0.6479478 (17)\ttotal: 2.14s\tremaining: 57.3s\n",
      "18:\tlearn: 0.6172577\ttest: 0.6462184\tbest: 0.6462184 (18)\ttotal: 2.27s\tremaining: 57.6s\n",
      "19:\tlearn: 0.6124005\ttest: 0.6401030\tbest: 0.6401030 (19)\ttotal: 2.41s\tremaining: 57.9s\n",
      "20:\tlearn: 0.6099985\ttest: 0.6385521\tbest: 0.6385521 (20)\ttotal: 2.55s\tremaining: 58.1s\n",
      "21:\tlearn: 0.6094718\ttest: 0.6386637\tbest: 0.6385521 (20)\ttotal: 2.64s\tremaining: 57.3s\n",
      "22:\tlearn: 0.6038987\ttest: 0.6357172\tbest: 0.6357172 (22)\ttotal: 2.78s\tremaining: 57.7s\n",
      "23:\tlearn: 0.6027165\ttest: 0.6344991\tbest: 0.6344991 (23)\ttotal: 2.91s\tremaining: 57.6s\n",
      "24:\tlearn: 0.6025661\ttest: 0.6345890\tbest: 0.6344991 (23)\ttotal: 3s\tremaining: 57s\n",
      "25:\tlearn: 0.6010128\ttest: 0.6340297\tbest: 0.6340297 (25)\ttotal: 3.13s\tremaining: 57.1s\n",
      "26:\tlearn: 0.5977228\ttest: 0.6316433\tbest: 0.6316433 (26)\ttotal: 3.27s\tremaining: 57.2s\n",
      "27:\tlearn: 0.5933033\ttest: 0.6283026\tbest: 0.6283026 (27)\ttotal: 3.4s\tremaining: 57.3s\n",
      "28:\tlearn: 0.5925714\ttest: 0.6287040\tbest: 0.6283026 (27)\ttotal: 3.49s\tremaining: 56.7s\n",
      "29:\tlearn: 0.5886731\ttest: 0.6274981\tbest: 0.6274981 (29)\ttotal: 3.62s\tremaining: 56.8s\n",
      "30:\tlearn: 0.5869924\ttest: 0.6272950\tbest: 0.6272950 (30)\ttotal: 3.76s\tremaining: 56.9s\n",
      "31:\tlearn: 0.5868773\ttest: 0.6274874\tbest: 0.6272950 (30)\ttotal: 3.8s\tremaining: 55.5s\n",
      "32:\tlearn: 0.5848850\ttest: 0.6269223\tbest: 0.6269223 (32)\ttotal: 3.91s\tremaining: 55.3s\n",
      "33:\tlearn: 0.5829309\ttest: 0.6261968\tbest: 0.6261968 (33)\ttotal: 4.04s\tremaining: 55.3s\n",
      "34:\tlearn: 0.5798137\ttest: 0.6260265\tbest: 0.6260265 (34)\ttotal: 4.17s\tremaining: 55.4s\n",
      "35:\tlearn: 0.5780444\ttest: 0.6255501\tbest: 0.6255501 (35)\ttotal: 4.32s\tremaining: 55.7s\n",
      "36:\tlearn: 0.5776720\ttest: 0.6251213\tbest: 0.6251213 (36)\ttotal: 4.45s\tremaining: 55.7s\n",
      "37:\tlearn: 0.5769885\ttest: 0.6247521\tbest: 0.6247521 (37)\ttotal: 4.59s\tremaining: 55.8s\n",
      "38:\tlearn: 0.5766067\ttest: 0.6250866\tbest: 0.6247521 (37)\ttotal: 4.66s\tremaining: 55.1s\n",
      "39:\tlearn: 0.5751763\ttest: 0.6237638\tbest: 0.6237638 (39)\ttotal: 4.79s\tremaining: 55.1s\n",
      "40:\tlearn: 0.5717225\ttest: 0.6238413\tbest: 0.6237638 (39)\ttotal: 4.92s\tremaining: 55.1s\n",
      "41:\tlearn: 0.5705251\ttest: 0.6237342\tbest: 0.6237342 (41)\ttotal: 5.06s\tremaining: 55.1s\n",
      "42:\tlearn: 0.5675227\ttest: 0.6235929\tbest: 0.6235929 (42)\ttotal: 5.19s\tremaining: 55.1s\n",
      "43:\tlearn: 0.5664466\ttest: 0.6223756\tbest: 0.6223756 (43)\ttotal: 5.32s\tremaining: 55.2s\n",
      "44:\tlearn: 0.5637857\ttest: 0.6208426\tbest: 0.6208426 (44)\ttotal: 5.45s\tremaining: 55.1s\n",
      "45:\tlearn: 0.5637817\ttest: 0.6208353\tbest: 0.6208353 (45)\ttotal: 5.5s\tremaining: 54.3s\n",
      "46:\tlearn: 0.5632967\ttest: 0.6207253\tbest: 0.6207253 (46)\ttotal: 5.64s\tremaining: 54.4s\n",
      "47:\tlearn: 0.5624688\ttest: 0.6206612\tbest: 0.6206612 (47)\ttotal: 5.76s\tremaining: 54.3s\n",
      "48:\tlearn: 0.5601019\ttest: 0.6174807\tbest: 0.6174807 (48)\ttotal: 5.9s\tremaining: 54.3s\n",
      "49:\tlearn: 0.5568556\ttest: 0.6157265\tbest: 0.6157265 (49)\ttotal: 6.03s\tremaining: 54.3s\n",
      "50:\tlearn: 0.5560373\ttest: 0.6174215\tbest: 0.6157265 (49)\ttotal: 6.15s\tremaining: 54.1s\n",
      "51:\tlearn: 0.5560179\ttest: 0.6174035\tbest: 0.6157265 (49)\ttotal: 6.2s\tremaining: 53.4s\n",
      "52:\tlearn: 0.5551979\ttest: 0.6161478\tbest: 0.6157265 (49)\ttotal: 6.33s\tremaining: 53.3s\n",
      "53:\tlearn: 0.5520115\ttest: 0.6158563\tbest: 0.6157265 (49)\ttotal: 6.45s\tremaining: 53.2s\n",
      "54:\tlearn: 0.5512192\ttest: 0.6149612\tbest: 0.6149612 (54)\ttotal: 6.55s\tremaining: 53s\n",
      "55:\tlearn: 0.5477380\ttest: 0.6140300\tbest: 0.6140300 (55)\ttotal: 6.68s\tremaining: 52.9s\n",
      "56:\tlearn: 0.5446122\ttest: 0.6121807\tbest: 0.6121807 (56)\ttotal: 6.79s\tremaining: 52.8s\n",
      "57:\tlearn: 0.5442190\ttest: 0.6120142\tbest: 0.6120142 (57)\ttotal: 6.86s\tremaining: 52.3s\n",
      "58:\tlearn: 0.5442190\ttest: 0.6120134\tbest: 0.6120134 (58)\ttotal: 6.89s\tremaining: 51.5s\n",
      "59:\tlearn: 0.5435931\ttest: 0.6117520\tbest: 0.6117520 (59)\ttotal: 7.02s\tremaining: 51.5s\n",
      "60:\tlearn: 0.5426667\ttest: 0.6123836\tbest: 0.6117520 (59)\ttotal: 7.14s\tremaining: 51.4s\n",
      "61:\tlearn: 0.5421131\ttest: 0.6125442\tbest: 0.6117520 (59)\ttotal: 7.26s\tremaining: 51.3s\n",
      "62:\tlearn: 0.5397200\ttest: 0.6106595\tbest: 0.6106595 (62)\ttotal: 7.41s\tremaining: 51.4s\n",
      "63:\tlearn: 0.5392880\ttest: 0.6109505\tbest: 0.6106595 (62)\ttotal: 7.54s\tremaining: 51.3s\n",
      "64:\tlearn: 0.5363168\ttest: 0.6100218\tbest: 0.6100218 (64)\ttotal: 7.67s\tremaining: 51.3s\n",
      "65:\tlearn: 0.5362767\ttest: 0.6097976\tbest: 0.6097976 (65)\ttotal: 7.74s\tremaining: 50.9s\n",
      "66:\tlearn: 0.5362348\ttest: 0.6098738\tbest: 0.6097976 (65)\ttotal: 7.8s\tremaining: 50.4s\n",
      "67:\tlearn: 0.5362025\ttest: 0.6099532\tbest: 0.6097976 (65)\ttotal: 7.87s\tremaining: 50s\n",
      "68:\tlearn: 0.5360199\ttest: 0.6099401\tbest: 0.6097976 (65)\ttotal: 7.94s\tremaining: 49.6s\n",
      "69:\tlearn: 0.5345907\ttest: 0.6088897\tbest: 0.6088897 (69)\ttotal: 8.07s\tremaining: 49.6s\n",
      "70:\tlearn: 0.5341079\ttest: 0.6090867\tbest: 0.6088897 (69)\ttotal: 8.16s\tremaining: 49.3s\n",
      "71:\tlearn: 0.5308755\ttest: 0.6074177\tbest: 0.6074177 (71)\ttotal: 8.3s\tremaining: 49.3s\n",
      "72:\tlearn: 0.5290492\ttest: 0.6069918\tbest: 0.6069918 (72)\ttotal: 8.43s\tremaining: 49.3s\n",
      "73:\tlearn: 0.5285527\ttest: 0.6069235\tbest: 0.6069235 (73)\ttotal: 8.52s\tremaining: 49.1s\n",
      "74:\tlearn: 0.5270095\ttest: 0.6047994\tbest: 0.6047994 (74)\ttotal: 8.66s\tremaining: 49.1s\n",
      "75:\tlearn: 0.5213824\ttest: 0.6005323\tbest: 0.6005323 (75)\ttotal: 8.78s\tremaining: 49s\n",
      "76:\tlearn: 0.5212366\ttest: 0.6007161\tbest: 0.6005323 (75)\ttotal: 8.89s\tremaining: 48.8s\n",
      "77:\tlearn: 0.5193388\ttest: 0.6012566\tbest: 0.6005323 (75)\ttotal: 9.01s\tremaining: 48.8s\n",
      "78:\tlearn: 0.5166887\ttest: 0.6016779\tbest: 0.6005323 (75)\ttotal: 9.13s\tremaining: 48.7s\n",
      "79:\tlearn: 0.5164069\ttest: 0.6014072\tbest: 0.6005323 (75)\ttotal: 9.27s\tremaining: 48.7s\n",
      "80:\tlearn: 0.5152249\ttest: 0.6002494\tbest: 0.6002494 (80)\ttotal: 9.39s\tremaining: 48.6s\n",
      "81:\tlearn: 0.5134347\ttest: 0.5981477\tbest: 0.5981477 (81)\ttotal: 9.53s\tremaining: 48.6s\n",
      "82:\tlearn: 0.5091188\ttest: 0.5978365\tbest: 0.5978365 (82)\ttotal: 9.65s\tremaining: 48.5s\n",
      "83:\tlearn: 0.5075980\ttest: 0.5963703\tbest: 0.5963703 (83)\ttotal: 9.77s\tremaining: 48.4s\n",
      "84:\tlearn: 0.5065634\ttest: 0.5949894\tbest: 0.5949894 (84)\ttotal: 9.9s\tremaining: 48.4s\n",
      "85:\tlearn: 0.5056411\ttest: 0.5946011\tbest: 0.5946011 (85)\ttotal: 10s\tremaining: 48.3s\n",
      "86:\tlearn: 0.5044075\ttest: 0.5944926\tbest: 0.5944926 (86)\ttotal: 10.2s\tremaining: 48.3s\n",
      "87:\tlearn: 0.5039358\ttest: 0.5944769\tbest: 0.5944769 (87)\ttotal: 10.3s\tremaining: 48.2s\n",
      "88:\tlearn: 0.5029951\ttest: 0.5939029\tbest: 0.5939029 (88)\ttotal: 10.4s\tremaining: 48.2s\n",
      "89:\tlearn: 0.5029290\ttest: 0.5938849\tbest: 0.5938849 (89)\ttotal: 10.5s\tremaining: 47.8s\n",
      "90:\tlearn: 0.5029290\ttest: 0.5938892\tbest: 0.5938849 (89)\ttotal: 10.5s\tremaining: 47.3s\n",
      "91:\tlearn: 0.5029289\ttest: 0.5939014\tbest: 0.5938849 (89)\ttotal: 10.6s\tremaining: 46.8s\n",
      "92:\tlearn: 0.5028062\ttest: 0.5940106\tbest: 0.5938849 (89)\ttotal: 10.6s\tremaining: 46.6s\n",
      "93:\tlearn: 0.5014580\ttest: 0.5935276\tbest: 0.5935276 (93)\ttotal: 10.8s\tremaining: 46.5s\n",
      "94:\tlearn: 0.5014580\ttest: 0.5935296\tbest: 0.5935276 (93)\ttotal: 10.8s\tremaining: 46s\n"
     ]
    },
    {
     "name": "stdout",
     "output_type": "stream",
     "text": [
      "95:\tlearn: 0.5009691\ttest: 0.5932891\tbest: 0.5932891 (95)\ttotal: 10.9s\tremaining: 45.9s\n",
      "96:\tlearn: 0.4989868\ttest: 0.5927689\tbest: 0.5927689 (96)\ttotal: 11s\tremaining: 45.9s\n",
      "97:\tlearn: 0.4970128\ttest: 0.5923034\tbest: 0.5923034 (97)\ttotal: 11.2s\tremaining: 45.8s\n",
      "98:\tlearn: 0.4958770\ttest: 0.5921122\tbest: 0.5921122 (98)\ttotal: 11.3s\tremaining: 45.6s\n",
      "99:\tlearn: 0.4954636\ttest: 0.5913689\tbest: 0.5913689 (99)\ttotal: 11.4s\tremaining: 45.5s\n",
      "100:\tlearn: 0.4944966\ttest: 0.5912483\tbest: 0.5912483 (100)\ttotal: 11.5s\tremaining: 45.5s\n",
      "101:\tlearn: 0.4944725\ttest: 0.5911715\tbest: 0.5911715 (101)\ttotal: 11.6s\tremaining: 45.2s\n",
      "102:\tlearn: 0.4941355\ttest: 0.5908048\tbest: 0.5908048 (102)\ttotal: 11.7s\tremaining: 45.1s\n",
      "103:\tlearn: 0.4939000\ttest: 0.5907545\tbest: 0.5907545 (103)\ttotal: 11.8s\tremaining: 45s\n",
      "104:\tlearn: 0.4916851\ttest: 0.5914031\tbest: 0.5907545 (103)\ttotal: 11.9s\tremaining: 45s\n",
      "105:\tlearn: 0.4876520\ttest: 0.5850180\tbest: 0.5850180 (105)\ttotal: 12.1s\tremaining: 44.9s\n",
      "106:\tlearn: 0.4872788\ttest: 0.5843883\tbest: 0.5843883 (106)\ttotal: 12.2s\tremaining: 44.8s\n",
      "107:\tlearn: 0.4857792\ttest: 0.5832113\tbest: 0.5832113 (107)\ttotal: 12.3s\tremaining: 44.7s\n",
      "108:\tlearn: 0.4840568\ttest: 0.5837567\tbest: 0.5832113 (107)\ttotal: 12.5s\tremaining: 44.7s\n",
      "109:\tlearn: 0.4839135\ttest: 0.5835207\tbest: 0.5832113 (107)\ttotal: 12.5s\tremaining: 44.5s\n",
      "110:\tlearn: 0.4833051\ttest: 0.5831998\tbest: 0.5831998 (110)\ttotal: 12.7s\tremaining: 44.4s\n",
      "111:\tlearn: 0.4827714\ttest: 0.5829810\tbest: 0.5829810 (111)\ttotal: 12.8s\tremaining: 44.3s\n",
      "112:\tlearn: 0.4810274\ttest: 0.5814955\tbest: 0.5814955 (112)\ttotal: 12.9s\tremaining: 44.2s\n",
      "113:\tlearn: 0.4810274\ttest: 0.5814963\tbest: 0.5814955 (112)\ttotal: 13s\tremaining: 43.9s\n",
      "114:\tlearn: 0.4795296\ttest: 0.5814569\tbest: 0.5814569 (114)\ttotal: 13.1s\tremaining: 43.8s\n",
      "115:\tlearn: 0.4791029\ttest: 0.5816078\tbest: 0.5814569 (114)\ttotal: 13.2s\tremaining: 43.7s\n",
      "116:\tlearn: 0.4790558\ttest: 0.5816287\tbest: 0.5814569 (114)\ttotal: 13.2s\tremaining: 43.4s\n",
      "117:\tlearn: 0.4773688\ttest: 0.5790914\tbest: 0.5790914 (117)\ttotal: 13.4s\tremaining: 43.3s\n",
      "118:\tlearn: 0.4763829\ttest: 0.5777554\tbest: 0.5777554 (118)\ttotal: 13.5s\tremaining: 43.2s\n",
      "119:\tlearn: 0.4723211\ttest: 0.5765002\tbest: 0.5765002 (119)\ttotal: 13.6s\tremaining: 43.1s\n",
      "120:\tlearn: 0.4720869\ttest: 0.5759880\tbest: 0.5759880 (120)\ttotal: 13.7s\tremaining: 43s\n",
      "121:\tlearn: 0.4714584\ttest: 0.5755745\tbest: 0.5755745 (121)\ttotal: 13.8s\tremaining: 42.9s\n",
      "122:\tlearn: 0.4708339\ttest: 0.5750847\tbest: 0.5750847 (122)\ttotal: 14s\tremaining: 42.8s\n",
      "123:\tlearn: 0.4698436\ttest: 0.5752287\tbest: 0.5750847 (122)\ttotal: 14.1s\tremaining: 42.7s\n",
      "124:\tlearn: 0.4695733\ttest: 0.5755575\tbest: 0.5750847 (122)\ttotal: 14.2s\tremaining: 42.6s\n",
      "125:\tlearn: 0.4683790\ttest: 0.5760260\tbest: 0.5750847 (122)\ttotal: 14.3s\tremaining: 42.5s\n",
      "126:\tlearn: 0.4671826\ttest: 0.5743377\tbest: 0.5743377 (126)\ttotal: 14.4s\tremaining: 42.4s\n",
      "127:\tlearn: 0.4671723\ttest: 0.5743786\tbest: 0.5743377 (126)\ttotal: 14.5s\tremaining: 42.1s\n",
      "128:\tlearn: 0.4665991\ttest: 0.5743628\tbest: 0.5743377 (126)\ttotal: 14.6s\tremaining: 42.1s\n",
      "129:\tlearn: 0.4653906\ttest: 0.5738910\tbest: 0.5738910 (129)\ttotal: 14.8s\tremaining: 42s\n",
      "130:\tlearn: 0.4626346\ttest: 0.5713981\tbest: 0.5713981 (130)\ttotal: 14.9s\tremaining: 41.9s\n",
      "131:\tlearn: 0.4597310\ttest: 0.5699480\tbest: 0.5699480 (131)\ttotal: 15s\tremaining: 41.9s\n",
      "132:\tlearn: 0.4557578\ttest: 0.5648582\tbest: 0.5648582 (132)\ttotal: 15.2s\tremaining: 41.8s\n",
      "133:\tlearn: 0.4550382\ttest: 0.5644002\tbest: 0.5644002 (133)\ttotal: 15.3s\tremaining: 41.8s\n",
      "134:\tlearn: 0.4539562\ttest: 0.5640577\tbest: 0.5640577 (134)\ttotal: 15.4s\tremaining: 41.7s\n",
      "135:\tlearn: 0.4523014\ttest: 0.5635512\tbest: 0.5635512 (135)\ttotal: 15.6s\tremaining: 41.6s\n",
      "136:\tlearn: 0.4519596\ttest: 0.5634512\tbest: 0.5634512 (136)\ttotal: 15.7s\tremaining: 41.6s\n",
      "137:\tlearn: 0.4519014\ttest: 0.5631899\tbest: 0.5631899 (137)\ttotal: 15.7s\tremaining: 41.3s\n",
      "138:\tlearn: 0.4518945\ttest: 0.5634807\tbest: 0.5631899 (137)\ttotal: 15.8s\tremaining: 41s\n",
      "139:\tlearn: 0.4494741\ttest: 0.5606390\tbest: 0.5606390 (139)\ttotal: 15.9s\tremaining: 41s\n",
      "140:\tlearn: 0.4451164\ttest: 0.5572562\tbest: 0.5572562 (140)\ttotal: 16.1s\tremaining: 40.9s\n",
      "141:\tlearn: 0.4419877\ttest: 0.5569922\tbest: 0.5569922 (141)\ttotal: 16.2s\tremaining: 40.9s\n",
      "142:\tlearn: 0.4394680\ttest: 0.5562059\tbest: 0.5562059 (142)\ttotal: 16.3s\tremaining: 40.8s\n",
      "143:\tlearn: 0.4390043\ttest: 0.5579554\tbest: 0.5562059 (142)\ttotal: 16.5s\tremaining: 40.7s\n",
      "144:\tlearn: 0.4337973\ttest: 0.5559682\tbest: 0.5559682 (144)\ttotal: 16.6s\tremaining: 40.7s\n",
      "145:\tlearn: 0.4325376\ttest: 0.5557613\tbest: 0.5557613 (145)\ttotal: 16.7s\tremaining: 40.6s\n",
      "146:\tlearn: 0.4315964\ttest: 0.5559663\tbest: 0.5557613 (145)\ttotal: 16.9s\tremaining: 40.5s\n",
      "147:\tlearn: 0.4290200\ttest: 0.5520673\tbest: 0.5520673 (147)\ttotal: 17s\tremaining: 40.4s\n",
      "148:\tlearn: 0.4283286\ttest: 0.5519987\tbest: 0.5519987 (148)\ttotal: 17.1s\tremaining: 40.4s\n",
      "149:\tlearn: 0.4270737\ttest: 0.5512364\tbest: 0.5512364 (149)\ttotal: 17.3s\tremaining: 40.3s\n",
      "150:\tlearn: 0.4240918\ttest: 0.5486552\tbest: 0.5486552 (150)\ttotal: 17.4s\tremaining: 40.2s\n",
      "151:\tlearn: 0.4232471\ttest: 0.5475516\tbest: 0.5475516 (151)\ttotal: 17.5s\tremaining: 40.2s\n",
      "152:\tlearn: 0.4229493\ttest: 0.5472950\tbest: 0.5472950 (152)\ttotal: 17.7s\tremaining: 40.1s\n",
      "153:\tlearn: 0.4201106\ttest: 0.5472197\tbest: 0.5472197 (153)\ttotal: 17.8s\tremaining: 40s\n",
      "154:\tlearn: 0.4193653\ttest: 0.5469074\tbest: 0.5469074 (154)\ttotal: 18s\tremaining: 40s\n",
      "155:\tlearn: 0.4178959\ttest: 0.5464420\tbest: 0.5464420 (155)\ttotal: 18.1s\tremaining: 39.9s\n",
      "156:\tlearn: 0.4173899\ttest: 0.5475023\tbest: 0.5464420 (155)\ttotal: 18.2s\tremaining: 39.8s\n",
      "157:\tlearn: 0.4157825\ttest: 0.5478973\tbest: 0.5464420 (155)\ttotal: 18.3s\tremaining: 39.7s\n",
      "158:\tlearn: 0.4133029\ttest: 0.5460370\tbest: 0.5460370 (158)\ttotal: 18.5s\tremaining: 39.6s\n",
      "159:\tlearn: 0.4097575\ttest: 0.5456460\tbest: 0.5456460 (159)\ttotal: 18.6s\tremaining: 39.6s\n",
      "160:\tlearn: 0.4083667\ttest: 0.5453218\tbest: 0.5453218 (160)\ttotal: 18.7s\tremaining: 39.5s\n",
      "161:\tlearn: 0.4050871\ttest: 0.5416727\tbest: 0.5416727 (161)\ttotal: 18.9s\tremaining: 39.4s\n",
      "162:\tlearn: 0.4034197\ttest: 0.5412566\tbest: 0.5412566 (162)\ttotal: 19s\tremaining: 39.3s\n",
      "163:\tlearn: 0.4027570\ttest: 0.5410836\tbest: 0.5410836 (163)\ttotal: 19.1s\tremaining: 39.2s\n",
      "164:\tlearn: 0.4022620\ttest: 0.5411266\tbest: 0.5410836 (163)\ttotal: 19.3s\tremaining: 39.1s\n",
      "165:\tlearn: 0.4007176\ttest: 0.5409191\tbest: 0.5409191 (165)\ttotal: 19.4s\tremaining: 39.1s\n",
      "166:\tlearn: 0.3994101\ttest: 0.5393413\tbest: 0.5393413 (166)\ttotal: 19.5s\tremaining: 39s\n",
      "167:\tlearn: 0.3975987\ttest: 0.5394210\tbest: 0.5393413 (166)\ttotal: 19.7s\tremaining: 38.9s\n",
      "168:\tlearn: 0.3926228\ttest: 0.5364457\tbest: 0.5364457 (168)\ttotal: 19.8s\tremaining: 38.8s\n",
      "169:\tlearn: 0.3907876\ttest: 0.5356306\tbest: 0.5356306 (169)\ttotal: 19.9s\tremaining: 38.7s\n",
      "170:\tlearn: 0.3891404\ttest: 0.5326875\tbest: 0.5326875 (170)\ttotal: 20.1s\tremaining: 38.6s\n",
      "171:\tlearn: 0.3874858\ttest: 0.5312084\tbest: 0.5312084 (171)\ttotal: 20.2s\tremaining: 38.5s\n",
      "172:\tlearn: 0.3844292\ttest: 0.5319225\tbest: 0.5312084 (171)\ttotal: 20.3s\tremaining: 38.5s\n",
      "173:\tlearn: 0.3818384\ttest: 0.5298821\tbest: 0.5298821 (173)\ttotal: 20.5s\tremaining: 38.4s\n",
      "174:\tlearn: 0.3804784\ttest: 0.5287968\tbest: 0.5287968 (174)\ttotal: 20.6s\tremaining: 38.3s\n",
      "175:\tlearn: 0.3785733\ttest: 0.5273257\tbest: 0.5273257 (175)\ttotal: 20.7s\tremaining: 38.2s\n",
      "176:\tlearn: 0.3766647\ttest: 0.5261935\tbest: 0.5261935 (176)\ttotal: 20.9s\tremaining: 38.1s\n",
      "177:\tlearn: 0.3744239\ttest: 0.5259838\tbest: 0.5259838 (177)\ttotal: 21s\tremaining: 38s\n",
      "178:\tlearn: 0.3710841\ttest: 0.5238830\tbest: 0.5238830 (178)\ttotal: 21.1s\tremaining: 37.9s\n",
      "179:\tlearn: 0.3693968\ttest: 0.5225352\tbest: 0.5225352 (179)\ttotal: 21.3s\tremaining: 37.8s\n",
      "180:\tlearn: 0.3689251\ttest: 0.5223062\tbest: 0.5223062 (180)\ttotal: 21.4s\tremaining: 37.8s\n",
      "181:\tlearn: 0.3666874\ttest: 0.5226715\tbest: 0.5223062 (180)\ttotal: 21.5s\tremaining: 37.6s\n",
      "182:\tlearn: 0.3641533\ttest: 0.5222786\tbest: 0.5222786 (182)\ttotal: 21.7s\tremaining: 37.6s\n",
      "183:\tlearn: 0.3618755\ttest: 0.5223655\tbest: 0.5222786 (182)\ttotal: 21.8s\tremaining: 37.4s\n",
      "184:\tlearn: 0.3596412\ttest: 0.5199699\tbest: 0.5199699 (184)\ttotal: 21.9s\tremaining: 37.3s\n",
      "185:\tlearn: 0.3570482\ttest: 0.5181400\tbest: 0.5181400 (185)\ttotal: 22.1s\tremaining: 37.2s\n",
      "186:\tlearn: 0.3538586\ttest: 0.5143943\tbest: 0.5143943 (186)\ttotal: 22.2s\tremaining: 37.2s\n"
     ]
    },
    {
     "name": "stdout",
     "output_type": "stream",
     "text": [
      "187:\tlearn: 0.3520900\ttest: 0.5145058\tbest: 0.5143943 (186)\ttotal: 22.3s\tremaining: 37.1s\n",
      "188:\tlearn: 0.3491746\ttest: 0.5128769\tbest: 0.5128769 (188)\ttotal: 22.5s\tremaining: 37s\n",
      "189:\tlearn: 0.3477545\ttest: 0.5124592\tbest: 0.5124592 (189)\ttotal: 22.6s\tremaining: 36.9s\n",
      "190:\tlearn: 0.3472578\ttest: 0.5122334\tbest: 0.5122334 (190)\ttotal: 22.7s\tremaining: 36.8s\n",
      "191:\tlearn: 0.3464515\ttest: 0.5118896\tbest: 0.5118896 (191)\ttotal: 22.9s\tremaining: 36.7s\n",
      "192:\tlearn: 0.3450959\ttest: 0.5133838\tbest: 0.5118896 (191)\ttotal: 23s\tremaining: 36.6s\n",
      "193:\tlearn: 0.3431900\ttest: 0.5113654\tbest: 0.5113654 (193)\ttotal: 23.1s\tremaining: 36.5s\n",
      "194:\tlearn: 0.3408832\ttest: 0.5099311\tbest: 0.5099311 (194)\ttotal: 23.3s\tremaining: 36.4s\n",
      "195:\tlearn: 0.3404583\ttest: 0.5104775\tbest: 0.5099311 (194)\ttotal: 23.4s\tremaining: 36.3s\n",
      "196:\tlearn: 0.3383423\ttest: 0.5100672\tbest: 0.5099311 (194)\ttotal: 23.5s\tremaining: 36.2s\n",
      "197:\tlearn: 0.3357997\ttest: 0.5141168\tbest: 0.5099311 (194)\ttotal: 23.7s\tremaining: 36.1s\n",
      "198:\tlearn: 0.3335813\ttest: 0.5131074\tbest: 0.5099311 (194)\ttotal: 23.8s\tremaining: 36s\n",
      "199:\tlearn: 0.3323186\ttest: 0.5147932\tbest: 0.5099311 (194)\ttotal: 23.9s\tremaining: 35.9s\n",
      "200:\tlearn: 0.3311857\ttest: 0.5147520\tbest: 0.5099311 (194)\ttotal: 24.1s\tremaining: 35.8s\n",
      "201:\tlearn: 0.3292113\ttest: 0.5147380\tbest: 0.5099311 (194)\ttotal: 24.2s\tremaining: 35.7s\n",
      "202:\tlearn: 0.3280338\ttest: 0.5148499\tbest: 0.5099311 (194)\ttotal: 24.3s\tremaining: 35.6s\n",
      "203:\tlearn: 0.3262743\ttest: 0.5144900\tbest: 0.5099311 (194)\ttotal: 24.5s\tremaining: 35.5s\n",
      "204:\tlearn: 0.3251157\ttest: 0.5142149\tbest: 0.5099311 (194)\ttotal: 24.6s\tremaining: 35.4s\n",
      "205:\tlearn: 0.3235446\ttest: 0.5125952\tbest: 0.5099311 (194)\ttotal: 24.7s\tremaining: 35.3s\n",
      "206:\tlearn: 0.3223954\ttest: 0.5128038\tbest: 0.5099311 (194)\ttotal: 24.9s\tremaining: 35.2s\n",
      "207:\tlearn: 0.3217304\ttest: 0.5125488\tbest: 0.5099311 (194)\ttotal: 25s\tremaining: 35.1s\n",
      "208:\tlearn: 0.3205760\ttest: 0.5134598\tbest: 0.5099311 (194)\ttotal: 25.1s\tremaining: 35s\n",
      "209:\tlearn: 0.3187731\ttest: 0.5132616\tbest: 0.5099311 (194)\ttotal: 25.3s\tremaining: 34.9s\n",
      "210:\tlearn: 0.3180920\ttest: 0.5122828\tbest: 0.5099311 (194)\ttotal: 25.4s\tremaining: 34.8s\n",
      "211:\tlearn: 0.3160596\ttest: 0.5126574\tbest: 0.5099311 (194)\ttotal: 25.5s\tremaining: 34.7s\n",
      "212:\tlearn: 0.3147996\ttest: 0.5111808\tbest: 0.5099311 (194)\ttotal: 25.7s\tremaining: 34.6s\n",
      "213:\tlearn: 0.3135397\ttest: 0.5102221\tbest: 0.5099311 (194)\ttotal: 25.8s\tremaining: 34.4s\n",
      "214:\tlearn: 0.3117307\ttest: 0.5105548\tbest: 0.5099311 (194)\ttotal: 25.9s\tremaining: 34.3s\n",
      "215:\tlearn: 0.3103200\ttest: 0.5115975\tbest: 0.5099311 (194)\ttotal: 26s\tremaining: 34.2s\n",
      "216:\tlearn: 0.3085160\ttest: 0.5112637\tbest: 0.5099311 (194)\ttotal: 26.2s\tremaining: 34.1s\n",
      "217:\tlearn: 0.3072441\ttest: 0.5104679\tbest: 0.5099311 (194)\ttotal: 26.3s\tremaining: 34s\n",
      "218:\tlearn: 0.3065116\ttest: 0.5102239\tbest: 0.5099311 (194)\ttotal: 26.4s\tremaining: 33.9s\n",
      "219:\tlearn: 0.3052841\ttest: 0.5119583\tbest: 0.5099311 (194)\ttotal: 26.6s\tremaining: 33.8s\n",
      "220:\tlearn: 0.3041032\ttest: 0.5120002\tbest: 0.5099311 (194)\ttotal: 26.7s\tremaining: 33.7s\n",
      "221:\tlearn: 0.3023632\ttest: 0.5097661\tbest: 0.5097661 (221)\ttotal: 26.8s\tremaining: 33.6s\n",
      "222:\tlearn: 0.3007006\ttest: 0.5082125\tbest: 0.5082125 (222)\ttotal: 27s\tremaining: 33.5s\n",
      "223:\tlearn: 0.2994867\ttest: 0.5091546\tbest: 0.5082125 (222)\ttotal: 27.1s\tremaining: 33.4s\n",
      "224:\tlearn: 0.2981383\ttest: 0.5084303\tbest: 0.5082125 (222)\ttotal: 27.3s\tremaining: 33.3s\n",
      "225:\tlearn: 0.2974367\ttest: 0.5087659\tbest: 0.5082125 (222)\ttotal: 27.4s\tremaining: 33.2s\n",
      "226:\tlearn: 0.2963602\ttest: 0.5085046\tbest: 0.5082125 (222)\ttotal: 27.5s\tremaining: 33.1s\n",
      "227:\tlearn: 0.2945442\ttest: 0.5068814\tbest: 0.5068814 (227)\ttotal: 27.6s\tremaining: 33s\n",
      "228:\tlearn: 0.2932763\ttest: 0.5061940\tbest: 0.5061940 (228)\ttotal: 27.8s\tremaining: 32.8s\n",
      "229:\tlearn: 0.2915434\ttest: 0.5057853\tbest: 0.5057853 (229)\ttotal: 27.9s\tremaining: 32.7s\n",
      "230:\tlearn: 0.2902263\ttest: 0.5042622\tbest: 0.5042622 (230)\ttotal: 28s\tremaining: 32.6s\n",
      "231:\tlearn: 0.2896226\ttest: 0.5033648\tbest: 0.5033648 (231)\ttotal: 28.2s\tremaining: 32.5s\n",
      "232:\tlearn: 0.2894183\ttest: 0.5034353\tbest: 0.5033648 (231)\ttotal: 28.3s\tremaining: 32.4s\n",
      "233:\tlearn: 0.2883301\ttest: 0.5022596\tbest: 0.5022596 (233)\ttotal: 28.4s\tremaining: 32.3s\n",
      "234:\tlearn: 0.2873806\ttest: 0.5033760\tbest: 0.5022596 (233)\ttotal: 28.6s\tremaining: 32.2s\n",
      "235:\tlearn: 0.2849371\ttest: 0.5012339\tbest: 0.5012339 (235)\ttotal: 28.7s\tremaining: 32.1s\n",
      "236:\tlearn: 0.2834724\ttest: 0.5006565\tbest: 0.5006565 (236)\ttotal: 28.8s\tremaining: 32s\n",
      "237:\tlearn: 0.2823801\ttest: 0.4996779\tbest: 0.4996779 (237)\ttotal: 29s\tremaining: 31.9s\n",
      "238:\tlearn: 0.2805866\ttest: 0.4991158\tbest: 0.4991158 (238)\ttotal: 29.1s\tremaining: 31.8s\n",
      "239:\tlearn: 0.2800892\ttest: 0.4990407\tbest: 0.4990407 (239)\ttotal: 29.2s\tremaining: 31.7s\n",
      "240:\tlearn: 0.2790403\ttest: 0.4990480\tbest: 0.4990407 (239)\ttotal: 29.4s\tremaining: 31.5s\n",
      "241:\tlearn: 0.2787348\ttest: 0.4983936\tbest: 0.4983936 (241)\ttotal: 29.5s\tremaining: 31.4s\n",
      "242:\tlearn: 0.2781896\ttest: 0.4982633\tbest: 0.4982633 (242)\ttotal: 29.6s\tremaining: 31.3s\n",
      "243:\tlearn: 0.2773020\ttest: 0.4979731\tbest: 0.4979731 (243)\ttotal: 29.7s\tremaining: 31.2s\n",
      "244:\tlearn: 0.2755070\ttest: 0.4972128\tbest: 0.4972128 (244)\ttotal: 29.9s\tremaining: 31.1s\n",
      "245:\tlearn: 0.2747102\ttest: 0.4974561\tbest: 0.4972128 (244)\ttotal: 30s\tremaining: 31s\n",
      "246:\tlearn: 0.2733567\ttest: 0.4965636\tbest: 0.4965636 (246)\ttotal: 30.2s\tremaining: 30.9s\n",
      "247:\tlearn: 0.2729394\ttest: 0.4967243\tbest: 0.4965636 (246)\ttotal: 30.3s\tremaining: 30.8s\n",
      "248:\tlearn: 0.2712128\ttest: 0.4961084\tbest: 0.4961084 (248)\ttotal: 30.4s\tremaining: 30.7s\n",
      "249:\tlearn: 0.2704950\ttest: 0.4957499\tbest: 0.4957499 (249)\ttotal: 30.6s\tremaining: 30.6s\n",
      "250:\tlearn: 0.2692261\ttest: 0.4959476\tbest: 0.4957499 (249)\ttotal: 30.7s\tremaining: 30.4s\n",
      "251:\tlearn: 0.2680083\ttest: 0.4962443\tbest: 0.4957499 (249)\ttotal: 30.8s\tremaining: 30.3s\n",
      "252:\tlearn: 0.2669484\ttest: 0.4959184\tbest: 0.4957499 (249)\ttotal: 30.9s\tremaining: 30.2s\n",
      "253:\tlearn: 0.2658460\ttest: 0.4955192\tbest: 0.4955192 (253)\ttotal: 31.1s\tremaining: 30.1s\n",
      "254:\tlearn: 0.2645465\ttest: 0.4939899\tbest: 0.4939899 (254)\ttotal: 31.2s\tremaining: 30s\n",
      "255:\tlearn: 0.2633624\ttest: 0.4925623\tbest: 0.4925623 (255)\ttotal: 31.3s\tremaining: 29.9s\n",
      "256:\tlearn: 0.2628081\ttest: 0.4926555\tbest: 0.4925623 (255)\ttotal: 31.5s\tremaining: 29.7s\n",
      "257:\tlearn: 0.2616856\ttest: 0.4915289\tbest: 0.4915289 (257)\ttotal: 31.6s\tremaining: 29.6s\n",
      "258:\tlearn: 0.2610241\ttest: 0.4917504\tbest: 0.4915289 (257)\ttotal: 31.7s\tremaining: 29.5s\n",
      "259:\tlearn: 0.2607103\ttest: 0.4924941\tbest: 0.4915289 (257)\ttotal: 31.8s\tremaining: 29.4s\n",
      "260:\tlearn: 0.2593536\ttest: 0.4915391\tbest: 0.4915289 (257)\ttotal: 32s\tremaining: 29.3s\n",
      "261:\tlearn: 0.2575858\ttest: 0.4899396\tbest: 0.4899396 (261)\ttotal: 32.1s\tremaining: 29.2s\n",
      "262:\tlearn: 0.2559551\ttest: 0.4923817\tbest: 0.4899396 (261)\ttotal: 32.3s\tremaining: 29.1s\n",
      "263:\tlearn: 0.2549815\ttest: 0.4925458\tbest: 0.4899396 (261)\ttotal: 32.4s\tremaining: 28.9s\n",
      "264:\tlearn: 0.2535660\ttest: 0.4938648\tbest: 0.4899396 (261)\ttotal: 32.5s\tremaining: 28.8s\n",
      "265:\tlearn: 0.2525042\ttest: 0.4942998\tbest: 0.4899396 (261)\ttotal: 32.6s\tremaining: 28.7s\n",
      "266:\tlearn: 0.2512304\ttest: 0.4937038\tbest: 0.4899396 (261)\ttotal: 32.8s\tremaining: 28.6s\n",
      "267:\tlearn: 0.2509614\ttest: 0.4939119\tbest: 0.4899396 (261)\ttotal: 32.9s\tremaining: 28.5s\n",
      "268:\tlearn: 0.2501806\ttest: 0.4931772\tbest: 0.4899396 (261)\ttotal: 33s\tremaining: 28.4s\n",
      "269:\tlearn: 0.2492484\ttest: 0.4922769\tbest: 0.4899396 (261)\ttotal: 33.2s\tremaining: 28.3s\n",
      "270:\tlearn: 0.2482360\ttest: 0.4934745\tbest: 0.4899396 (261)\ttotal: 33.3s\tremaining: 28.1s\n",
      "271:\tlearn: 0.2478941\ttest: 0.4931624\tbest: 0.4899396 (261)\ttotal: 33.4s\tremaining: 28s\n",
      "272:\tlearn: 0.2469175\ttest: 0.4926590\tbest: 0.4899396 (261)\ttotal: 33.6s\tremaining: 27.9s\n",
      "273:\tlearn: 0.2466775\ttest: 0.4934199\tbest: 0.4899396 (261)\ttotal: 33.7s\tremaining: 27.8s\n",
      "274:\tlearn: 0.2458085\ttest: 0.4929942\tbest: 0.4899396 (261)\ttotal: 33.8s\tremaining: 27.7s\n",
      "275:\tlearn: 0.2441529\ttest: 0.4917116\tbest: 0.4899396 (261)\ttotal: 34s\tremaining: 27.6s\n",
      "276:\tlearn: 0.2436589\ttest: 0.4919228\tbest: 0.4899396 (261)\ttotal: 34.1s\tremaining: 27.5s\n",
      "277:\tlearn: 0.2422215\ttest: 0.4928507\tbest: 0.4899396 (261)\ttotal: 34.3s\tremaining: 27.4s\n",
      "278:\tlearn: 0.2410171\ttest: 0.4930381\tbest: 0.4899396 (261)\ttotal: 34.6s\tremaining: 27.4s\n",
      "279:\tlearn: 0.2398094\ttest: 0.4931312\tbest: 0.4899396 (261)\ttotal: 34.7s\tremaining: 27.3s\n"
     ]
    },
    {
     "name": "stdout",
     "output_type": "stream",
     "text": [
      "280:\tlearn: 0.2389276\ttest: 0.4928785\tbest: 0.4899396 (261)\ttotal: 34.8s\tremaining: 27.1s\n",
      "281:\tlearn: 0.2376619\ttest: 0.4922941\tbest: 0.4899396 (261)\ttotal: 35s\tremaining: 27s\n",
      "282:\tlearn: 0.2375696\ttest: 0.4922027\tbest: 0.4899396 (261)\ttotal: 35.1s\tremaining: 26.9s\n",
      "283:\tlearn: 0.2373055\ttest: 0.4920486\tbest: 0.4899396 (261)\ttotal: 35.3s\tremaining: 26.9s\n",
      "284:\tlearn: 0.2364955\ttest: 0.4912955\tbest: 0.4899396 (261)\ttotal: 35.4s\tremaining: 26.7s\n",
      "285:\tlearn: 0.2360805\ttest: 0.4921545\tbest: 0.4899396 (261)\ttotal: 35.6s\tremaining: 26.6s\n",
      "286:\tlearn: 0.2354806\ttest: 0.4918661\tbest: 0.4899396 (261)\ttotal: 35.7s\tremaining: 26.5s\n",
      "287:\tlearn: 0.2329834\ttest: 0.4912038\tbest: 0.4899396 (261)\ttotal: 35.8s\tremaining: 26.4s\n",
      "288:\tlearn: 0.2322818\ttest: 0.4946493\tbest: 0.4899396 (261)\ttotal: 36s\tremaining: 26.2s\n",
      "289:\tlearn: 0.2316890\ttest: 0.4946299\tbest: 0.4899396 (261)\ttotal: 36.1s\tremaining: 26.1s\n",
      "290:\tlearn: 0.2308164\ttest: 0.4936826\tbest: 0.4899396 (261)\ttotal: 36.2s\tremaining: 26s\n",
      "291:\tlearn: 0.2305467\ttest: 0.4938722\tbest: 0.4899396 (261)\ttotal: 36.4s\tremaining: 25.9s\n",
      "292:\tlearn: 0.2304297\ttest: 0.4942313\tbest: 0.4899396 (261)\ttotal: 36.5s\tremaining: 25.8s\n",
      "293:\tlearn: 0.2289490\ttest: 0.4935940\tbest: 0.4899396 (261)\ttotal: 36.6s\tremaining: 25.7s\n",
      "294:\tlearn: 0.2280157\ttest: 0.4931949\tbest: 0.4899396 (261)\ttotal: 36.7s\tremaining: 25.5s\n",
      "295:\tlearn: 0.2270687\ttest: 0.4945047\tbest: 0.4899396 (261)\ttotal: 36.9s\tremaining: 25.4s\n",
      "296:\tlearn: 0.2263154\ttest: 0.4950922\tbest: 0.4899396 (261)\ttotal: 37s\tremaining: 25.3s\n",
      "297:\tlearn: 0.2258225\ttest: 0.4952157\tbest: 0.4899396 (261)\ttotal: 37.1s\tremaining: 25.2s\n",
      "298:\tlearn: 0.2243882\ttest: 0.4934878\tbest: 0.4899396 (261)\ttotal: 37.3s\tremaining: 25s\n",
      "299:\tlearn: 0.2233078\ttest: 0.4929322\tbest: 0.4899396 (261)\ttotal: 37.4s\tremaining: 24.9s\n",
      "300:\tlearn: 0.2230528\ttest: 0.4926942\tbest: 0.4899396 (261)\ttotal: 37.5s\tremaining: 24.8s\n",
      "301:\tlearn: 0.2222206\ttest: 0.4924601\tbest: 0.4899396 (261)\ttotal: 37.7s\tremaining: 24.7s\n",
      "302:\tlearn: 0.2218089\ttest: 0.4942558\tbest: 0.4899396 (261)\ttotal: 37.8s\tremaining: 24.6s\n",
      "303:\tlearn: 0.2208022\ttest: 0.4936557\tbest: 0.4899396 (261)\ttotal: 37.9s\tremaining: 24.4s\n",
      "304:\tlearn: 0.2199654\ttest: 0.4941900\tbest: 0.4899396 (261)\ttotal: 38s\tremaining: 24.3s\n",
      "305:\tlearn: 0.2190953\ttest: 0.4933751\tbest: 0.4899396 (261)\ttotal: 38.2s\tremaining: 24.2s\n",
      "306:\tlearn: 0.2186620\ttest: 0.4927031\tbest: 0.4899396 (261)\ttotal: 38.3s\tremaining: 24.1s\n",
      "307:\tlearn: 0.2171037\ttest: 0.4913267\tbest: 0.4899396 (261)\ttotal: 38.4s\tremaining: 23.9s\n",
      "308:\tlearn: 0.2168037\ttest: 0.4912696\tbest: 0.4899396 (261)\ttotal: 38.6s\tremaining: 23.8s\n",
      "309:\tlearn: 0.2162384\ttest: 0.4905670\tbest: 0.4899396 (261)\ttotal: 38.7s\tremaining: 23.7s\n",
      "310:\tlearn: 0.2151721\ttest: 0.4912622\tbest: 0.4899396 (261)\ttotal: 38.8s\tremaining: 23.6s\n",
      "311:\tlearn: 0.2139795\ttest: 0.4902500\tbest: 0.4899396 (261)\ttotal: 39s\tremaining: 23.5s\n",
      "312:\tlearn: 0.2134500\ttest: 0.4904140\tbest: 0.4899396 (261)\ttotal: 39.1s\tremaining: 23.4s\n",
      "313:\tlearn: 0.2130025\ttest: 0.4897794\tbest: 0.4897794 (313)\ttotal: 39.2s\tremaining: 23.2s\n",
      "314:\tlearn: 0.2125058\ttest: 0.4907749\tbest: 0.4897794 (313)\ttotal: 39.4s\tremaining: 23.1s\n",
      "315:\tlearn: 0.2117814\ttest: 0.4917305\tbest: 0.4897794 (313)\ttotal: 39.5s\tremaining: 23s\n",
      "316:\tlearn: 0.2108395\ttest: 0.4910438\tbest: 0.4897794 (313)\ttotal: 39.6s\tremaining: 22.9s\n",
      "317:\tlearn: 0.2099180\ttest: 0.4902543\tbest: 0.4897794 (313)\ttotal: 39.7s\tremaining: 22.7s\n",
      "318:\tlearn: 0.2088807\ttest: 0.4911289\tbest: 0.4897794 (313)\ttotal: 39.9s\tremaining: 22.6s\n",
      "319:\tlearn: 0.2084446\ttest: 0.4906619\tbest: 0.4897794 (313)\ttotal: 40s\tremaining: 22.5s\n",
      "320:\tlearn: 0.2082014\ttest: 0.4903090\tbest: 0.4897794 (313)\ttotal: 40.1s\tremaining: 22.4s\n",
      "321:\tlearn: 0.2074870\ttest: 0.4898772\tbest: 0.4897794 (313)\ttotal: 40.3s\tremaining: 22.3s\n",
      "322:\tlearn: 0.2073077\ttest: 0.4901937\tbest: 0.4897794 (313)\ttotal: 40.4s\tremaining: 22.1s\n",
      "323:\tlearn: 0.2066573\ttest: 0.4914580\tbest: 0.4897794 (313)\ttotal: 40.5s\tremaining: 22s\n",
      "324:\tlearn: 0.2060168\ttest: 0.4907673\tbest: 0.4897794 (313)\ttotal: 40.7s\tremaining: 21.9s\n",
      "325:\tlearn: 0.2044331\ttest: 0.4879513\tbest: 0.4879513 (325)\ttotal: 40.8s\tremaining: 21.8s\n",
      "326:\tlearn: 0.2036035\ttest: 0.4871243\tbest: 0.4871243 (326)\ttotal: 40.9s\tremaining: 21.6s\n",
      "327:\tlearn: 0.2029231\ttest: 0.4877097\tbest: 0.4871243 (326)\ttotal: 41s\tremaining: 21.5s\n",
      "328:\tlearn: 0.2023241\ttest: 0.4875716\tbest: 0.4871243 (326)\ttotal: 41.2s\tremaining: 21.4s\n",
      "329:\tlearn: 0.2017570\ttest: 0.4872279\tbest: 0.4871243 (326)\ttotal: 41.3s\tremaining: 21.3s\n",
      "330:\tlearn: 0.2009356\ttest: 0.4867925\tbest: 0.4867925 (330)\ttotal: 41.4s\tremaining: 21.2s\n",
      "331:\tlearn: 0.2000650\ttest: 0.4874273\tbest: 0.4867925 (330)\ttotal: 41.6s\tremaining: 21s\n",
      "332:\tlearn: 0.1999547\ttest: 0.4874822\tbest: 0.4867925 (330)\ttotal: 41.7s\tremaining: 20.9s\n",
      "333:\tlearn: 0.1998230\ttest: 0.4875906\tbest: 0.4867925 (330)\ttotal: 41.8s\tremaining: 20.8s\n",
      "334:\tlearn: 0.1992643\ttest: 0.4878823\tbest: 0.4867925 (330)\ttotal: 41.9s\tremaining: 20.7s\n",
      "335:\tlearn: 0.1991553\ttest: 0.4880823\tbest: 0.4867925 (330)\ttotal: 42.1s\tremaining: 20.5s\n",
      "336:\tlearn: 0.1984358\ttest: 0.4875030\tbest: 0.4867925 (330)\ttotal: 42.2s\tremaining: 20.4s\n",
      "337:\tlearn: 0.1978182\ttest: 0.4883000\tbest: 0.4867925 (330)\ttotal: 42.3s\tremaining: 20.3s\n",
      "338:\tlearn: 0.1971883\ttest: 0.4880338\tbest: 0.4867925 (330)\ttotal: 42.5s\tremaining: 20.2s\n",
      "339:\tlearn: 0.1958921\ttest: 0.4869614\tbest: 0.4867925 (330)\ttotal: 42.6s\tremaining: 20s\n",
      "340:\tlearn: 0.1958801\ttest: 0.4870774\tbest: 0.4867925 (330)\ttotal: 42.7s\tremaining: 19.9s\n",
      "341:\tlearn: 0.1950504\ttest: 0.4866593\tbest: 0.4866593 (341)\ttotal: 42.9s\tremaining: 19.8s\n",
      "342:\tlearn: 0.1941007\ttest: 0.4877581\tbest: 0.4866593 (341)\ttotal: 43s\tremaining: 19.7s\n",
      "343:\tlearn: 0.1940899\ttest: 0.4878681\tbest: 0.4866593 (341)\ttotal: 43.1s\tremaining: 19.6s\n",
      "344:\tlearn: 0.1931494\ttest: 0.4872273\tbest: 0.4866593 (341)\ttotal: 43.2s\tremaining: 19.4s\n",
      "345:\tlearn: 0.1918927\ttest: 0.4861807\tbest: 0.4861807 (345)\ttotal: 43.4s\tremaining: 19.3s\n",
      "346:\tlearn: 0.1915736\ttest: 0.4866984\tbest: 0.4861807 (345)\ttotal: 43.5s\tremaining: 19.2s\n",
      "347:\tlearn: 0.1908425\ttest: 0.4862137\tbest: 0.4861807 (345)\ttotal: 43.6s\tremaining: 19.1s\n",
      "348:\tlearn: 0.1901507\ttest: 0.4858998\tbest: 0.4858998 (348)\ttotal: 43.7s\tremaining: 18.9s\n",
      "349:\tlearn: 0.1895481\ttest: 0.4857578\tbest: 0.4857578 (349)\ttotal: 43.8s\tremaining: 18.8s\n",
      "350:\tlearn: 0.1888458\ttest: 0.4856737\tbest: 0.4856737 (350)\ttotal: 44s\tremaining: 18.7s\n",
      "351:\tlearn: 0.1881881\ttest: 0.4878755\tbest: 0.4856737 (350)\ttotal: 44.1s\tremaining: 18.5s\n",
      "352:\tlearn: 0.1877301\ttest: 0.4875059\tbest: 0.4856737 (350)\ttotal: 44.2s\tremaining: 18.4s\n",
      "353:\tlearn: 0.1869746\ttest: 0.4876977\tbest: 0.4856737 (350)\ttotal: 44.4s\tremaining: 18.3s\n",
      "354:\tlearn: 0.1865249\ttest: 0.4877778\tbest: 0.4856737 (350)\ttotal: 44.5s\tremaining: 18.2s\n",
      "355:\tlearn: 0.1855531\ttest: 0.4883159\tbest: 0.4856737 (350)\ttotal: 44.6s\tremaining: 18s\n",
      "356:\tlearn: 0.1853631\ttest: 0.4882871\tbest: 0.4856737 (350)\ttotal: 44.7s\tremaining: 17.9s\n",
      "357:\tlearn: 0.1849253\ttest: 0.4884340\tbest: 0.4856737 (350)\ttotal: 44.9s\tremaining: 17.8s\n",
      "358:\tlearn: 0.1847555\ttest: 0.4883176\tbest: 0.4856737 (350)\ttotal: 45s\tremaining: 17.7s\n",
      "359:\tlearn: 0.1838740\ttest: 0.4880842\tbest: 0.4856737 (350)\ttotal: 45.1s\tremaining: 17.6s\n",
      "360:\tlearn: 0.1831320\ttest: 0.4875191\tbest: 0.4856737 (350)\ttotal: 45.3s\tremaining: 17.4s\n",
      "361:\tlearn: 0.1826139\ttest: 0.4875178\tbest: 0.4856737 (350)\ttotal: 45.4s\tremaining: 17.3s\n",
      "362:\tlearn: 0.1818874\ttest: 0.4876376\tbest: 0.4856737 (350)\ttotal: 45.5s\tremaining: 17.2s\n",
      "363:\tlearn: 0.1817590\ttest: 0.4877814\tbest: 0.4856737 (350)\ttotal: 45.6s\tremaining: 17.1s\n",
      "364:\tlearn: 0.1811962\ttest: 0.4873186\tbest: 0.4856737 (350)\ttotal: 45.8s\tremaining: 16.9s\n",
      "365:\tlearn: 0.1804789\ttest: 0.4870963\tbest: 0.4856737 (350)\ttotal: 45.9s\tremaining: 16.8s\n",
      "366:\tlearn: 0.1801052\ttest: 0.4877614\tbest: 0.4856737 (350)\ttotal: 46s\tremaining: 16.7s\n",
      "367:\tlearn: 0.1794399\ttest: 0.4876280\tbest: 0.4856737 (350)\ttotal: 46.2s\tremaining: 16.6s\n",
      "368:\tlearn: 0.1790900\ttest: 0.4870877\tbest: 0.4856737 (350)\ttotal: 46.3s\tremaining: 16.4s\n",
      "369:\tlearn: 0.1789422\ttest: 0.4870123\tbest: 0.4856737 (350)\ttotal: 46.4s\tremaining: 16.3s\n",
      "370:\tlearn: 0.1779426\ttest: 0.4877886\tbest: 0.4856737 (350)\ttotal: 46.6s\tremaining: 16.2s\n",
      "371:\tlearn: 0.1775461\ttest: 0.4891511\tbest: 0.4856737 (350)\ttotal: 46.7s\tremaining: 16.1s\n"
     ]
    },
    {
     "name": "stdout",
     "output_type": "stream",
     "text": [
      "372:\tlearn: 0.1771263\ttest: 0.4895905\tbest: 0.4856737 (350)\ttotal: 46.8s\tremaining: 15.9s\n",
      "373:\tlearn: 0.1769187\ttest: 0.4897311\tbest: 0.4856737 (350)\ttotal: 46.9s\tremaining: 15.8s\n",
      "374:\tlearn: 0.1764551\ttest: 0.4912306\tbest: 0.4856737 (350)\ttotal: 47s\tremaining: 15.7s\n",
      "375:\tlearn: 0.1757906\ttest: 0.4920415\tbest: 0.4856737 (350)\ttotal: 47.2s\tremaining: 15.6s\n",
      "376:\tlearn: 0.1753857\ttest: 0.4926095\tbest: 0.4856737 (350)\ttotal: 47.3s\tremaining: 15.4s\n",
      "377:\tlearn: 0.1747264\ttest: 0.4922991\tbest: 0.4856737 (350)\ttotal: 47.4s\tremaining: 15.3s\n",
      "378:\tlearn: 0.1737422\ttest: 0.4925253\tbest: 0.4856737 (350)\ttotal: 47.6s\tremaining: 15.2s\n",
      "379:\tlearn: 0.1732535\ttest: 0.4920549\tbest: 0.4856737 (350)\ttotal: 47.7s\tremaining: 15.1s\n",
      "380:\tlearn: 0.1728638\ttest: 0.4917480\tbest: 0.4856737 (350)\ttotal: 47.8s\tremaining: 14.9s\n",
      "381:\tlearn: 0.1720772\ttest: 0.4905678\tbest: 0.4856737 (350)\ttotal: 47.9s\tremaining: 14.8s\n",
      "382:\tlearn: 0.1717595\ttest: 0.4901245\tbest: 0.4856737 (350)\ttotal: 48s\tremaining: 14.7s\n",
      "383:\tlearn: 0.1712428\ttest: 0.4897578\tbest: 0.4856737 (350)\ttotal: 48.2s\tremaining: 14.5s\n",
      "384:\tlearn: 0.1710364\ttest: 0.4890233\tbest: 0.4856737 (350)\ttotal: 48.3s\tremaining: 14.4s\n",
      "385:\tlearn: 0.1707027\ttest: 0.4887596\tbest: 0.4856737 (350)\ttotal: 48.4s\tremaining: 14.3s\n",
      "386:\tlearn: 0.1702388\ttest: 0.4886621\tbest: 0.4856737 (350)\ttotal: 48.5s\tremaining: 14.2s\n",
      "387:\tlearn: 0.1698936\ttest: 0.4878742\tbest: 0.4856737 (350)\ttotal: 48.7s\tremaining: 14s\n",
      "388:\tlearn: 0.1697989\ttest: 0.4880554\tbest: 0.4856737 (350)\ttotal: 48.8s\tremaining: 13.9s\n",
      "389:\tlearn: 0.1694740\ttest: 0.4888495\tbest: 0.4856737 (350)\ttotal: 48.9s\tremaining: 13.8s\n",
      "390:\tlearn: 0.1686452\ttest: 0.4888617\tbest: 0.4856737 (350)\ttotal: 49.1s\tremaining: 13.7s\n",
      "391:\tlearn: 0.1685134\ttest: 0.4890032\tbest: 0.4856737 (350)\ttotal: 49.2s\tremaining: 13.6s\n",
      "392:\tlearn: 0.1682275\ttest: 0.4893337\tbest: 0.4856737 (350)\ttotal: 49.4s\tremaining: 13.4s\n",
      "393:\tlearn: 0.1678279\ttest: 0.4890103\tbest: 0.4856737 (350)\ttotal: 49.5s\tremaining: 13.3s\n",
      "394:\tlearn: 0.1675281\ttest: 0.4894689\tbest: 0.4856737 (350)\ttotal: 49.6s\tremaining: 13.2s\n",
      "395:\tlearn: 0.1667083\ttest: 0.4901646\tbest: 0.4856737 (350)\ttotal: 49.8s\tremaining: 13.1s\n",
      "396:\tlearn: 0.1658432\ttest: 0.4898166\tbest: 0.4856737 (350)\ttotal: 49.9s\tremaining: 12.9s\n",
      "397:\tlearn: 0.1654482\ttest: 0.4898324\tbest: 0.4856737 (350)\ttotal: 50s\tremaining: 12.8s\n",
      "398:\tlearn: 0.1650263\ttest: 0.4896178\tbest: 0.4856737 (350)\ttotal: 50.1s\tremaining: 12.7s\n",
      "399:\tlearn: 0.1643127\ttest: 0.4889348\tbest: 0.4856737 (350)\ttotal: 50.3s\tremaining: 12.6s\n",
      "400:\tlearn: 0.1641269\ttest: 0.4887084\tbest: 0.4856737 (350)\ttotal: 50.4s\tremaining: 12.4s\n",
      "401:\tlearn: 0.1637458\ttest: 0.4885213\tbest: 0.4856737 (350)\ttotal: 50.6s\tremaining: 12.3s\n",
      "402:\tlearn: 0.1634668\ttest: 0.4887075\tbest: 0.4856737 (350)\ttotal: 50.7s\tremaining: 12.2s\n",
      "403:\tlearn: 0.1632326\ttest: 0.4889105\tbest: 0.4856737 (350)\ttotal: 50.8s\tremaining: 12.1s\n",
      "404:\tlearn: 0.1626250\ttest: 0.4891117\tbest: 0.4856737 (350)\ttotal: 50.9s\tremaining: 11.9s\n",
      "405:\tlearn: 0.1622810\ttest: 0.4885459\tbest: 0.4856737 (350)\ttotal: 51.1s\tremaining: 11.8s\n",
      "406:\tlearn: 0.1618143\ttest: 0.4891508\tbest: 0.4856737 (350)\ttotal: 51.2s\tremaining: 11.7s\n",
      "407:\tlearn: 0.1611361\ttest: 0.4893526\tbest: 0.4856737 (350)\ttotal: 51.3s\tremaining: 11.6s\n",
      "408:\tlearn: 0.1604261\ttest: 0.4885052\tbest: 0.4856737 (350)\ttotal: 51.4s\tremaining: 11.4s\n",
      "409:\tlearn: 0.1602558\ttest: 0.4884509\tbest: 0.4856737 (350)\ttotal: 51.6s\tremaining: 11.3s\n",
      "410:\tlearn: 0.1599571\ttest: 0.4881313\tbest: 0.4856737 (350)\ttotal: 51.7s\tremaining: 11.2s\n",
      "411:\tlearn: 0.1598039\ttest: 0.4881549\tbest: 0.4856737 (350)\ttotal: 51.8s\tremaining: 11.1s\n",
      "412:\tlearn: 0.1594992\ttest: 0.4896342\tbest: 0.4856737 (350)\ttotal: 51.9s\tremaining: 10.9s\n",
      "413:\tlearn: 0.1591006\ttest: 0.4896923\tbest: 0.4856737 (350)\ttotal: 52.1s\tremaining: 10.8s\n",
      "414:\tlearn: 0.1584987\ttest: 0.4894398\tbest: 0.4856737 (350)\ttotal: 52.2s\tremaining: 10.7s\n",
      "415:\tlearn: 0.1584411\ttest: 0.4893320\tbest: 0.4856737 (350)\ttotal: 52.3s\tremaining: 10.6s\n",
      "416:\tlearn: 0.1573900\ttest: 0.4887203\tbest: 0.4856737 (350)\ttotal: 52.4s\tremaining: 10.4s\n",
      "417:\tlearn: 0.1570507\ttest: 0.4887340\tbest: 0.4856737 (350)\ttotal: 52.6s\tremaining: 10.3s\n",
      "418:\tlearn: 0.1566104\ttest: 0.4882752\tbest: 0.4856737 (350)\ttotal: 52.7s\tremaining: 10.2s\n",
      "419:\tlearn: 0.1561269\ttest: 0.4879804\tbest: 0.4856737 (350)\ttotal: 52.8s\tremaining: 10.1s\n",
      "420:\tlearn: 0.1558642\ttest: 0.4878917\tbest: 0.4856737 (350)\ttotal: 53s\tremaining: 9.94s\n",
      "421:\tlearn: 0.1552939\ttest: 0.4868467\tbest: 0.4856737 (350)\ttotal: 53.1s\tremaining: 9.81s\n",
      "422:\tlearn: 0.1549248\ttest: 0.4867000\tbest: 0.4856737 (350)\ttotal: 53.2s\tremaining: 9.69s\n",
      "423:\tlearn: 0.1543606\ttest: 0.4858142\tbest: 0.4856737 (350)\ttotal: 53.3s\tremaining: 9.56s\n",
      "424:\tlearn: 0.1536476\ttest: 0.4841409\tbest: 0.4841409 (424)\ttotal: 53.5s\tremaining: 9.44s\n",
      "425:\tlearn: 0.1532233\ttest: 0.4833675\tbest: 0.4833675 (425)\ttotal: 53.6s\tremaining: 9.31s\n",
      "426:\tlearn: 0.1530008\ttest: 0.4843856\tbest: 0.4833675 (425)\ttotal: 53.7s\tremaining: 9.19s\n",
      "427:\tlearn: 0.1525272\ttest: 0.4835393\tbest: 0.4833675 (425)\ttotal: 53.9s\tremaining: 9.06s\n",
      "428:\tlearn: 0.1523724\ttest: 0.4835383\tbest: 0.4833675 (425)\ttotal: 54s\tremaining: 8.93s\n",
      "429:\tlearn: 0.1518545\ttest: 0.4838223\tbest: 0.4833675 (425)\ttotal: 54.1s\tremaining: 8.81s\n",
      "430:\tlearn: 0.1515907\ttest: 0.4850889\tbest: 0.4833675 (425)\ttotal: 54.2s\tremaining: 8.68s\n",
      "431:\tlearn: 0.1513756\ttest: 0.4845296\tbest: 0.4833675 (425)\ttotal: 54.4s\tremaining: 8.56s\n",
      "432:\tlearn: 0.1511818\ttest: 0.4844618\tbest: 0.4833675 (425)\ttotal: 54.5s\tremaining: 8.43s\n",
      "433:\tlearn: 0.1506633\ttest: 0.4848261\tbest: 0.4833675 (425)\ttotal: 54.6s\tremaining: 8.31s\n",
      "434:\tlearn: 0.1502517\ttest: 0.4846449\tbest: 0.4833675 (425)\ttotal: 54.7s\tremaining: 8.18s\n",
      "435:\tlearn: 0.1501602\ttest: 0.4846420\tbest: 0.4833675 (425)\ttotal: 54.9s\tremaining: 8.05s\n",
      "436:\tlearn: 0.1495132\ttest: 0.4870583\tbest: 0.4833675 (425)\ttotal: 55s\tremaining: 7.93s\n",
      "437:\tlearn: 0.1490352\ttest: 0.4886695\tbest: 0.4833675 (425)\ttotal: 55.1s\tremaining: 7.8s\n",
      "438:\tlearn: 0.1485595\ttest: 0.4877762\tbest: 0.4833675 (425)\ttotal: 55.3s\tremaining: 7.68s\n",
      "439:\tlearn: 0.1480604\ttest: 0.4866920\tbest: 0.4833675 (425)\ttotal: 55.4s\tremaining: 7.55s\n",
      "440:\tlearn: 0.1476099\ttest: 0.4870129\tbest: 0.4833675 (425)\ttotal: 55.5s\tremaining: 7.43s\n",
      "441:\tlearn: 0.1472290\ttest: 0.4877919\tbest: 0.4833675 (425)\ttotal: 55.6s\tremaining: 7.3s\n",
      "442:\tlearn: 0.1471482\ttest: 0.4880264\tbest: 0.4833675 (425)\ttotal: 55.8s\tremaining: 7.17s\n",
      "443:\tlearn: 0.1463675\ttest: 0.4880801\tbest: 0.4833675 (425)\ttotal: 55.9s\tremaining: 7.05s\n",
      "444:\tlearn: 0.1461164\ttest: 0.4886681\tbest: 0.4833675 (425)\ttotal: 56s\tremaining: 6.92s\n",
      "445:\tlearn: 0.1456164\ttest: 0.4891695\tbest: 0.4833675 (425)\ttotal: 56.2s\tremaining: 6.8s\n",
      "446:\tlearn: 0.1453481\ttest: 0.4890835\tbest: 0.4833675 (425)\ttotal: 56.3s\tremaining: 6.67s\n",
      "447:\tlearn: 0.1449601\ttest: 0.4897681\tbest: 0.4833675 (425)\ttotal: 56.4s\tremaining: 6.55s\n",
      "448:\tlearn: 0.1443640\ttest: 0.4894797\tbest: 0.4833675 (425)\ttotal: 56.5s\tremaining: 6.42s\n",
      "449:\tlearn: 0.1442558\ttest: 0.4899559\tbest: 0.4833675 (425)\ttotal: 56.7s\tremaining: 6.3s\n",
      "450:\tlearn: 0.1436161\ttest: 0.4900415\tbest: 0.4833675 (425)\ttotal: 56.8s\tremaining: 6.17s\n",
      "451:\tlearn: 0.1432190\ttest: 0.4912069\tbest: 0.4833675 (425)\ttotal: 56.9s\tremaining: 6.04s\n",
      "452:\tlearn: 0.1424626\ttest: 0.4923007\tbest: 0.4833675 (425)\ttotal: 57.1s\tremaining: 5.92s\n",
      "453:\tlearn: 0.1420741\ttest: 0.4919298\tbest: 0.4833675 (425)\ttotal: 57.2s\tremaining: 5.79s\n",
      "454:\tlearn: 0.1417601\ttest: 0.4923191\tbest: 0.4833675 (425)\ttotal: 57.3s\tremaining: 5.67s\n",
      "455:\tlearn: 0.1413781\ttest: 0.4922008\tbest: 0.4833675 (425)\ttotal: 57.5s\tremaining: 5.54s\n",
      "456:\tlearn: 0.1412353\ttest: 0.4921285\tbest: 0.4833675 (425)\ttotal: 57.6s\tremaining: 5.42s\n",
      "457:\tlearn: 0.1405669\ttest: 0.4916363\tbest: 0.4833675 (425)\ttotal: 57.7s\tremaining: 5.29s\n",
      "458:\tlearn: 0.1402866\ttest: 0.4912990\tbest: 0.4833675 (425)\ttotal: 57.8s\tremaining: 5.17s\n",
      "459:\tlearn: 0.1402428\ttest: 0.4914435\tbest: 0.4833675 (425)\ttotal: 58s\tremaining: 5.04s\n",
      "460:\tlearn: 0.1400971\ttest: 0.4915906\tbest: 0.4833675 (425)\ttotal: 58.1s\tremaining: 4.91s\n",
      "461:\tlearn: 0.1397883\ttest: 0.4910207\tbest: 0.4833675 (425)\ttotal: 58.2s\tremaining: 4.79s\n",
      "462:\tlearn: 0.1395006\ttest: 0.4907245\tbest: 0.4833675 (425)\ttotal: 58.3s\tremaining: 4.66s\n",
      "463:\tlearn: 0.1394101\ttest: 0.4902401\tbest: 0.4833675 (425)\ttotal: 58.5s\tremaining: 4.54s\n"
     ]
    },
    {
     "name": "stdout",
     "output_type": "stream",
     "text": [
      "464:\tlearn: 0.1392555\ttest: 0.4906884\tbest: 0.4833675 (425)\ttotal: 58.6s\tremaining: 4.41s\n",
      "465:\tlearn: 0.1390401\ttest: 0.4903249\tbest: 0.4833675 (425)\ttotal: 58.7s\tremaining: 4.29s\n",
      "466:\tlearn: 0.1388092\ttest: 0.4899335\tbest: 0.4833675 (425)\ttotal: 58.9s\tremaining: 4.16s\n",
      "467:\tlearn: 0.1385618\ttest: 0.4902497\tbest: 0.4833675 (425)\ttotal: 59s\tremaining: 4.03s\n",
      "468:\tlearn: 0.1382824\ttest: 0.4901391\tbest: 0.4833675 (425)\ttotal: 59.1s\tremaining: 3.91s\n",
      "469:\tlearn: 0.1379436\ttest: 0.4900361\tbest: 0.4833675 (425)\ttotal: 59.3s\tremaining: 3.78s\n",
      "470:\tlearn: 0.1376074\ttest: 0.4901232\tbest: 0.4833675 (425)\ttotal: 59.4s\tremaining: 3.66s\n",
      "471:\tlearn: 0.1372843\ttest: 0.4897737\tbest: 0.4833675 (425)\ttotal: 59.5s\tremaining: 3.53s\n",
      "472:\tlearn: 0.1367603\ttest: 0.4892646\tbest: 0.4833675 (425)\ttotal: 59.6s\tremaining: 3.4s\n",
      "473:\tlearn: 0.1361888\ttest: 0.4890604\tbest: 0.4833675 (425)\ttotal: 59.8s\tremaining: 3.28s\n",
      "474:\tlearn: 0.1356352\ttest: 0.4902044\tbest: 0.4833675 (425)\ttotal: 59.9s\tremaining: 3.15s\n",
      "475:\tlearn: 0.1351719\ttest: 0.4900846\tbest: 0.4833675 (425)\ttotal: 1m\tremaining: 3.03s\n",
      "476:\tlearn: 0.1348789\ttest: 0.4901429\tbest: 0.4833675 (425)\ttotal: 1m\tremaining: 2.9s\n",
      "477:\tlearn: 0.1341388\ttest: 0.4899008\tbest: 0.4833675 (425)\ttotal: 1m\tremaining: 2.77s\n",
      "478:\tlearn: 0.1335378\ttest: 0.4923918\tbest: 0.4833675 (425)\ttotal: 1m\tremaining: 2.65s\n",
      "479:\tlearn: 0.1333162\ttest: 0.4936095\tbest: 0.4833675 (425)\ttotal: 1m\tremaining: 2.52s\n",
      "480:\tlearn: 0.1327544\ttest: 0.4940671\tbest: 0.4833675 (425)\ttotal: 1m\tremaining: 2.4s\n",
      "481:\tlearn: 0.1325517\ttest: 0.4944181\tbest: 0.4833675 (425)\ttotal: 1m\tremaining: 2.27s\n",
      "482:\tlearn: 0.1319499\ttest: 0.4934624\tbest: 0.4833675 (425)\ttotal: 1m\tremaining: 2.14s\n",
      "483:\tlearn: 0.1315758\ttest: 0.4936817\tbest: 0.4833675 (425)\ttotal: 1m 1s\tremaining: 2.02s\n",
      "484:\tlearn: 0.1310269\ttest: 0.4939374\tbest: 0.4833675 (425)\ttotal: 1m 1s\tremaining: 1.89s\n",
      "485:\tlearn: 0.1308768\ttest: 0.4938614\tbest: 0.4833675 (425)\ttotal: 1m 1s\tremaining: 1.77s\n",
      "486:\tlearn: 0.1308182\ttest: 0.4942337\tbest: 0.4833675 (425)\ttotal: 1m 1s\tremaining: 1.64s\n",
      "487:\tlearn: 0.1306745\ttest: 0.4942287\tbest: 0.4833675 (425)\ttotal: 1m 1s\tremaining: 1.51s\n",
      "488:\tlearn: 0.1301203\ttest: 0.4936605\tbest: 0.4833675 (425)\ttotal: 1m 1s\tremaining: 1.39s\n",
      "489:\tlearn: 0.1296740\ttest: 0.4936582\tbest: 0.4833675 (425)\ttotal: 1m 1s\tremaining: 1.26s\n",
      "490:\tlearn: 0.1295874\ttest: 0.4935910\tbest: 0.4833675 (425)\ttotal: 1m 1s\tremaining: 1.14s\n",
      "491:\tlearn: 0.1292942\ttest: 0.4931985\tbest: 0.4833675 (425)\ttotal: 1m 2s\tremaining: 1.01s\n",
      "492:\tlearn: 0.1288756\ttest: 0.4929301\tbest: 0.4833675 (425)\ttotal: 1m 2s\tremaining: 884ms\n",
      "493:\tlearn: 0.1284493\ttest: 0.4929230\tbest: 0.4833675 (425)\ttotal: 1m 2s\tremaining: 757ms\n",
      "494:\tlearn: 0.1282355\ttest: 0.4926901\tbest: 0.4833675 (425)\ttotal: 1m 2s\tremaining: 631ms\n",
      "495:\tlearn: 0.1281144\ttest: 0.4929685\tbest: 0.4833675 (425)\ttotal: 1m 2s\tremaining: 505ms\n",
      "496:\tlearn: 0.1278606\ttest: 0.4934142\tbest: 0.4833675 (425)\ttotal: 1m 2s\tremaining: 379ms\n",
      "497:\tlearn: 0.1275775\ttest: 0.4936416\tbest: 0.4833675 (425)\ttotal: 1m 2s\tremaining: 253ms\n",
      "498:\tlearn: 0.1270902\ttest: 0.4927997\tbest: 0.4833675 (425)\ttotal: 1m 3s\tremaining: 126ms\n",
      "499:\tlearn: 0.1268624\ttest: 0.4921858\tbest: 0.4833675 (425)\ttotal: 1m 3s\tremaining: 0us\n",
      "\n",
      "bestTest = 0.4833675444\n",
      "bestIteration = 425\n",
      "\n",
      "Shrink model to first 426 iterations.\n",
      "get best iteration:  425\n"
     ]
    }
   ],
   "source": [
    "pool_train_data = Pool(X_train_resampled, y_train_resampled, cat_features=categorical_cols)\n",
    "pool_valid_data = Pool(X_valid, y_valid, cat_features=categorical_cols)\n",
    "\n",
    "#Apply class_weights=(10, 1) to tackle the imbalance problem..\n",
    "cat_boost_model = CatBoostClassifier(verbose=True, use_best_model=True, class_weights=(10, 1), \\\n",
    "                                     iterations= 500)\n",
    "\n",
    "cat_boost_model.fit(pool_train_data, eval_set=pool_valid_data)\n",
    "print(\"get best iteration: \", cat_boost_model.get_best_iteration())"
   ]
  },
  {
   "cell_type": "code",
   "execution_count": 44,
   "id": "4135ba75",
   "metadata": {},
   "outputs": [
    {
     "name": "stdout",
     "output_type": "stream",
     "text": [
      "0.7180453257790368\n"
     ]
    },
    {
     "data": {
      "text/html": [
       "<div>\n",
       "<style scoped>\n",
       "    .dataframe tbody tr th:only-of-type {\n",
       "        vertical-align: middle;\n",
       "    }\n",
       "\n",
       "    .dataframe tbody tr th {\n",
       "        vertical-align: top;\n",
       "    }\n",
       "\n",
       "    .dataframe thead th {\n",
       "        text-align: right;\n",
       "    }\n",
       "</style>\n",
       "<table border=\"1\" class=\"dataframe\">\n",
       "  <thead>\n",
       "    <tr style=\"text-align: right;\">\n",
       "      <th></th>\n",
       "      <th>GT_BAD</th>\n",
       "      <th>GT_GOOD</th>\n",
       "    </tr>\n",
       "  </thead>\n",
       "  <tbody>\n",
       "    <tr>\n",
       "      <th>PREDS_BAD</th>\n",
       "      <td>12</td>\n",
       "      <td>31</td>\n",
       "    </tr>\n",
       "    <tr>\n",
       "      <th>PREDS_GOOD</th>\n",
       "      <td>13</td>\n",
       "      <td>675</td>\n",
       "    </tr>\n",
       "  </tbody>\n",
       "</table>\n",
       "</div>"
      ],
      "text/plain": [
       "            GT_BAD  GT_GOOD\n",
       "PREDS_BAD       12       31\n",
       "PREDS_GOOD      13      675"
      ]
     },
     "execution_count": 44,
     "metadata": {},
     "output_type": "execute_result"
    }
   ],
   "source": [
    "predictions = ['good' if val >= 0.5 else 'bad' for val in cat_boost_model.predict_proba(pool_valid_data)[:, 1]]\n",
    "\n",
    "# average recall on two classes\n",
    "print(balanced_accuracy_score(y_valid, predictions))\n",
    "\n",
    "cf_df = pd.DataFrame(confusion_matrix(y_valid, predictions).T, columns=[\"GT_BAD\", \"GT_GOOD\"], \\\n",
    "                     index = [\"PREDS_BAD\", \"PREDS_GOOD\"])\n",
    "cf_df"
   ]
  },
  {
   "cell_type": "markdown",
   "id": "abea6658",
   "metadata": {},
   "source": [
    "###### Ensemble of samplers \n",
    "\n",
    "1. Balanced bagging classifier will grow classifier (Tree) based on balanced bootstraped samples\n",
    "\n",
    "2. Also try Ensemble like Adaboost classifier and Random forest classifier combined with different balanced booststrap techniques..\n",
    "\n",
    "3. These are Ensembles combined with Random undersampling technique, to fit each base estimator in the ensemble"
   ]
  },
  {
   "cell_type": "code",
   "execution_count": 45,
   "id": "ed044594",
   "metadata": {},
   "outputs": [],
   "source": [
    "from imblearn.ensemble import BalancedBaggingClassifier"
   ]
  },
  {
   "cell_type": "code",
   "execution_count": 46,
   "id": "6d59f8cb",
   "metadata": {},
   "outputs": [
    {
     "name": "stdout",
     "output_type": "stream",
     "text": [
      "Balanced accuracy score:  0.7507932011331444\n"
     ]
    },
    {
     "data": {
      "text/html": [
       "<div>\n",
       "<style scoped>\n",
       "    .dataframe tbody tr th:only-of-type {\n",
       "        vertical-align: middle;\n",
       "    }\n",
       "\n",
       "    .dataframe tbody tr th {\n",
       "        vertical-align: top;\n",
       "    }\n",
       "\n",
       "    .dataframe thead th {\n",
       "        text-align: right;\n",
       "    }\n",
       "</style>\n",
       "<table border=\"1\" class=\"dataframe\">\n",
       "  <thead>\n",
       "    <tr style=\"text-align: right;\">\n",
       "      <th></th>\n",
       "      <th>GT_BAD</th>\n",
       "      <th>GT_GOOD</th>\n",
       "    </tr>\n",
       "  </thead>\n",
       "  <tbody>\n",
       "    <tr>\n",
       "      <th>PREDS_BAD</th>\n",
       "      <td>13</td>\n",
       "      <td>13</td>\n",
       "    </tr>\n",
       "    <tr>\n",
       "      <th>PREDS_GOOD</th>\n",
       "      <td>12</td>\n",
       "      <td>693</td>\n",
       "    </tr>\n",
       "  </tbody>\n",
       "</table>\n",
       "</div>"
      ],
      "text/plain": [
       "            GT_BAD  GT_GOOD\n",
       "PREDS_BAD       13       13\n",
       "PREDS_GOOD      12      693"
      ]
     },
     "execution_count": 46,
     "metadata": {},
     "output_type": "execute_result"
    }
   ],
   "source": [
    "\n",
    "# Make positive samples five times the negative classes in every boot strap sample \n",
    "bbc = BalancedBaggingClassifier(base_estimator=DecisionTreeClassifier(),\n",
    "                                n_estimators = 200,\n",
    "                                sampling_strategy=0.3,\n",
    "                                replacement=False,\n",
    "                                random_state=101)\n",
    "\n",
    "\n",
    "bbc.fit(X_train_ohe, y_train_ohe)\n",
    "predictions = bbc.predict(X_valid_ohe)\n",
    "b_acc_score = balanced_accuracy_score(y_valid_ohe, predictions)\n",
    "print(\"Balanced accuracy score: \", b_acc_score)\n",
    "cf_df = pd.DataFrame(confusion_matrix(y_valid_ohe, predictions).T, columns=[\"GT_BAD\", \"GT_GOOD\"], \\\n",
    "                     index = [\"PREDS_BAD\", \"PREDS_GOOD\"])\n",
    "cf_df"
   ]
  },
  {
   "cell_type": "markdown",
   "id": "f3b4ec85",
   "metadata": {},
   "source": [
    "###### Use Adaboost classifier as the weak learner "
   ]
  },
  {
   "cell_type": "code",
   "execution_count": 47,
   "id": "e616ffd1",
   "metadata": {},
   "outputs": [
    {
     "name": "stdout",
     "output_type": "stream",
     "text": [
      "Balanced accuracy score:  0.5286685552407933\n"
     ]
    },
    {
     "data": {
      "text/html": [
       "<div>\n",
       "<style scoped>\n",
       "    .dataframe tbody tr th:only-of-type {\n",
       "        vertical-align: middle;\n",
       "    }\n",
       "\n",
       "    .dataframe tbody tr th {\n",
       "        vertical-align: top;\n",
       "    }\n",
       "\n",
       "    .dataframe thead th {\n",
       "        text-align: right;\n",
       "    }\n",
       "</style>\n",
       "<table border=\"1\" class=\"dataframe\">\n",
       "  <thead>\n",
       "    <tr style=\"text-align: right;\">\n",
       "      <th></th>\n",
       "      <th>GT_BAD</th>\n",
       "      <th>GT_GOOD</th>\n",
       "    </tr>\n",
       "  </thead>\n",
       "  <tbody>\n",
       "    <tr>\n",
       "      <th>PREDS_BAD</th>\n",
       "      <td>2</td>\n",
       "      <td>16</td>\n",
       "    </tr>\n",
       "    <tr>\n",
       "      <th>PREDS_GOOD</th>\n",
       "      <td>23</td>\n",
       "      <td>690</td>\n",
       "    </tr>\n",
       "  </tbody>\n",
       "</table>\n",
       "</div>"
      ],
      "text/plain": [
       "            GT_BAD  GT_GOOD\n",
       "PREDS_BAD        2       16\n",
       "PREDS_GOOD      23      690"
      ]
     },
     "execution_count": 47,
     "metadata": {},
     "output_type": "execute_result"
    }
   ],
   "source": [
    "from imblearn.ensemble import EasyEnsembleClassifier\n",
    "\n",
    "# Default estimator is AdaBoostClassifier\n",
    "adaboost_estimator = AdaBoostClassifier(n_estimators=50)\n",
    "\n",
    "eec = EasyEnsembleClassifier(random_state=0, base_estimator = adaboost_estimator, n_estimators = 50, \\\n",
    "                             sampling_strategy=0.3, \\\n",
    "                             replacement=False)\n",
    "\n",
    "eec.fit(X_train_ohe, y_train_ohe)\n",
    "\n",
    "predictions = eec.predict(X_valid_ohe)\n",
    "\n",
    "b_acc_score = balanced_accuracy_score(y_valid_ohe, predictions)\n",
    "print(\"Balanced accuracy score: \", b_acc_score)\n",
    "cf_df = pd.DataFrame(confusion_matrix(y_valid_ohe, predictions).T, columns=[\"GT_BAD\", \"GT_GOOD\"], \\\n",
    "                     index = [\"PREDS_BAD\", \"PREDS_GOOD\"])\n",
    "cf_df"
   ]
  },
  {
   "cell_type": "code",
   "execution_count": 48,
   "id": "185ca45c",
   "metadata": {},
   "outputs": [
    {
     "name": "stdout",
     "output_type": "stream",
     "text": [
      "Balanced accuracy score:  0.7546742209631727\n"
     ]
    },
    {
     "data": {
      "text/html": [
       "<div>\n",
       "<style scoped>\n",
       "    .dataframe tbody tr th:only-of-type {\n",
       "        vertical-align: middle;\n",
       "    }\n",
       "\n",
       "    .dataframe tbody tr th {\n",
       "        vertical-align: top;\n",
       "    }\n",
       "\n",
       "    .dataframe thead th {\n",
       "        text-align: right;\n",
       "    }\n",
       "</style>\n",
       "<table border=\"1\" class=\"dataframe\">\n",
       "  <thead>\n",
       "    <tr style=\"text-align: right;\">\n",
       "      <th></th>\n",
       "      <th>GT_BAD</th>\n",
       "      <th>GT_GOOD</th>\n",
       "    </tr>\n",
       "  </thead>\n",
       "  <tbody>\n",
       "    <tr>\n",
       "      <th>PREDS_BAD</th>\n",
       "      <td>15</td>\n",
       "      <td>64</td>\n",
       "    </tr>\n",
       "    <tr>\n",
       "      <th>PREDS_GOOD</th>\n",
       "      <td>10</td>\n",
       "      <td>642</td>\n",
       "    </tr>\n",
       "  </tbody>\n",
       "</table>\n",
       "</div>"
      ],
      "text/plain": [
       "            GT_BAD  GT_GOOD\n",
       "PREDS_BAD       15       64\n",
       "PREDS_GOOD      10      642"
      ]
     },
     "execution_count": 48,
     "metadata": {},
     "output_type": "execute_result"
    }
   ],
   "source": [
    "from imblearn.ensemble import BalancedRandomForestClassifier\n",
    "\n",
    "\n",
    "\n",
    "brf = BalancedRandomForestClassifier(n_estimators=100, \\\n",
    "                                     random_state=0, sampling_strategy=0.2)\n",
    "\n",
    "brf.fit(X_train_ohe, y_train_ohe)\n",
    "\n",
    "\n",
    "#predict probabilities\n",
    "predictions = ['good' if val >= 0.75 else 'bad' for val in brf.predict_proba(X_valid_ohe)[:, 1]]\n",
    "\n",
    "b_acc_score = balanced_accuracy_score(y_valid_ohe, predictions)\n",
    "print(\"Balanced accuracy score: \", b_acc_score)\n",
    "cf_df = pd.DataFrame(confusion_matrix(y_valid_ohe, predictions).T, columns=[\"GT_BAD\", \"GT_GOOD\"], \\\n",
    "                     index = [\"PREDS_BAD\", \"PREDS_GOOD\"])\n",
    "cf_df"
   ]
  },
  {
   "cell_type": "code",
   "execution_count": 49,
   "id": "d3de0f27",
   "metadata": {},
   "outputs": [],
   "source": [
    "from imblearn.ensemble import RUSBoostClassifier"
   ]
  },
  {
   "cell_type": "code",
   "execution_count": 50,
   "id": "aa2d351e",
   "metadata": {},
   "outputs": [
    {
     "ename": "SyntaxError",
     "evalue": "invalid syntax (Temp/ipykernel_74052/2207499885.py, line 8)",
     "output_type": "error",
     "traceback": [
      "\u001b[1;36m  File \u001b[1;32m\"C:\\Users\\patur\\AppData\\Local\\Temp/ipykernel_74052/2207499885.py\"\u001b[1;36m, line \u001b[1;32m8\u001b[0m\n\u001b[1;33m    predict probabilities\u001b[0m\n\u001b[1;37m            ^\u001b[0m\n\u001b[1;31mSyntaxError\u001b[0m\u001b[1;31m:\u001b[0m invalid syntax\n"
     ]
    }
   ],
   "source": [
    "rusboost = RUSBoostClassifier(n_estimators=250, algorithm='SAMME.R',\n",
    "                              random_state=0, base_estimator=DecisionTreeClassifier(max_depth=2), \\\n",
    "                              sampling_strategy=0.1)\n",
    "\n",
    "rusboost.fit(X_train_ohe, y_train_ohe)\n",
    "predictions = rusboost.predict(X_valid_ohe)\n",
    "\n",
    "#predict probabilities\n",
    "predictions = ['good' if val >= 0.5 else 'bad' for val in rusboost.predict_proba(X_valid_ohe)[:, 1]]\n",
    "\n",
    "b_acc_score = balanced_accuracy_score(y_valid_ohe, predictions)\n",
    "print(\"Balanced accuracy score: \", b_acc_score)\n",
    "cf_df = pd.DataFrame(confusion_matrix(y_valid_ohe, predictions).T, columns=[\"GT_BAD\", \"GT_GOOD\"], \\\n",
    "                     index = [\"PREDS_BAD\", \"PREDS_GOOD\"])\n",
    "cf_df"
   ]
  },
  {
   "cell_type": "markdown",
   "id": "5a066b6b",
   "metadata": {},
   "source": [
    "###### Tweaking the Probability threshold on the balancedRandomForestClassifier earlier on Validation set gave us the balanced accuracy score of 0.75.\n",
    "\n",
    "###### For the same threshold 0.75, ontest set it gave Balanced accuracy as 0.77\n",
    "\n",
    "###### Below is the confusion matrix & balanced accuracy on the test set."
   ]
  },
  {
   "cell_type": "code",
   "execution_count": 51,
   "id": "76315cb7",
   "metadata": {},
   "outputs": [
    {
     "name": "stdout",
     "output_type": "stream",
     "text": [
      "Balanced accuracy score:  0.7786989795918368\n"
     ]
    },
    {
     "data": {
      "text/html": [
       "<div>\n",
       "<style scoped>\n",
       "    .dataframe tbody tr th:only-of-type {\n",
       "        vertical-align: middle;\n",
       "    }\n",
       "\n",
       "    .dataframe tbody tr th {\n",
       "        vertical-align: top;\n",
       "    }\n",
       "\n",
       "    .dataframe thead th {\n",
       "        text-align: right;\n",
       "    }\n",
       "</style>\n",
       "<table border=\"1\" class=\"dataframe\">\n",
       "  <thead>\n",
       "    <tr style=\"text-align: right;\">\n",
       "      <th></th>\n",
       "      <th>GT_BAD</th>\n",
       "      <th>GT_GOOD</th>\n",
       "    </tr>\n",
       "  </thead>\n",
       "  <tbody>\n",
       "    <tr>\n",
       "      <th>PREDS_BAD</th>\n",
       "      <td>18</td>\n",
       "      <td>67</td>\n",
       "    </tr>\n",
       "    <tr>\n",
       "      <th>PREDS_GOOD</th>\n",
       "      <td>10</td>\n",
       "      <td>717</td>\n",
       "    </tr>\n",
       "  </tbody>\n",
       "</table>\n",
       "</div>"
      ],
      "text/plain": [
       "            GT_BAD  GT_GOOD\n",
       "PREDS_BAD       18       67\n",
       "PREDS_GOOD      10      717"
      ]
     },
     "execution_count": 51,
     "metadata": {},
     "output_type": "execute_result"
    }
   ],
   "source": [
    "#predict probabilities on Test set\n",
    "\n",
    "predictions = ['good' if val >= 0.75 else 'bad' for val in brf.predict_proba(X_test_ohe)[:, 1]]\n",
    "\n",
    "b_acc_score = balanced_accuracy_score(y_test_ohe, predictions)\n",
    "print(\"Balanced accuracy score: \", b_acc_score)\n",
    "\n",
    "cf_df = pd.DataFrame(confusion_matrix(y_test_ohe, predictions).T, columns=[\"GT_BAD\", \"GT_GOOD\"], \\\n",
    "                     index = [\"PREDS_BAD\", \"PREDS_GOOD\"])\n",
    "cf_df"
   ]
  },
  {
   "cell_type": "markdown",
   "id": "00286090",
   "metadata": {},
   "source": [
    "Can try some other techniques and also we can choose the best hyperparameters either through Grid serach or Bayesian search. \n",
    "\n",
    "But after certain extent, we need to collect more samples in order to dela with this kind of Imabalance.."
   ]
  },
  {
   "cell_type": "markdown",
   "id": "450b7fc3",
   "metadata": {},
   "source": [
    "###### Below predictions are using Cat boost classifier"
   ]
  },
  {
   "cell_type": "code",
   "execution_count": 52,
   "id": "1ac6ad52",
   "metadata": {},
   "outputs": [
    {
     "name": "stdout",
     "output_type": "stream",
     "text": [
      "0.7059948979591837\n"
     ]
    },
    {
     "data": {
      "text/html": [
       "<div>\n",
       "<style scoped>\n",
       "    .dataframe tbody tr th:only-of-type {\n",
       "        vertical-align: middle;\n",
       "    }\n",
       "\n",
       "    .dataframe tbody tr th {\n",
       "        vertical-align: top;\n",
       "    }\n",
       "\n",
       "    .dataframe thead th {\n",
       "        text-align: right;\n",
       "    }\n",
       "</style>\n",
       "<table border=\"1\" class=\"dataframe\">\n",
       "  <thead>\n",
       "    <tr style=\"text-align: right;\">\n",
       "      <th></th>\n",
       "      <th>GT_BAD</th>\n",
       "      <th>GT_GOOD</th>\n",
       "    </tr>\n",
       "  </thead>\n",
       "  <tbody>\n",
       "    <tr>\n",
       "      <th>PREDS_BAD</th>\n",
       "      <td>13</td>\n",
       "      <td>41</td>\n",
       "    </tr>\n",
       "    <tr>\n",
       "      <th>PREDS_GOOD</th>\n",
       "      <td>15</td>\n",
       "      <td>743</td>\n",
       "    </tr>\n",
       "  </tbody>\n",
       "</table>\n",
       "</div>"
      ],
      "text/plain": [
       "            GT_BAD  GT_GOOD\n",
       "PREDS_BAD       13       41\n",
       "PREDS_GOOD      15      743"
      ]
     },
     "execution_count": 52,
     "metadata": {},
     "output_type": "execute_result"
    }
   ],
   "source": [
    "pool_test_data = Pool(X_test, y_test, cat_features=categorical_cols)\n",
    "\n",
    "predictions = ['good' if val >= 0.5 else 'bad' for val in cat_boost_model.predict_proba(pool_test_data)[:, 1]]\n",
    "\n",
    "# average recall on two classes\n",
    "print(balanced_accuracy_score(y_test, predictions))\n",
    "\n",
    "cf_df = pd.DataFrame(confusion_matrix(y_test, predictions).T, columns=[\"GT_BAD\", \"GT_GOOD\"], \\\n",
    "                     index = [\"PREDS_BAD\", \"PREDS_GOOD\"])\n",
    "cf_df"
   ]
  },
  {
   "cell_type": "markdown",
   "id": "fde12296",
   "metadata": {},
   "source": [
    "###### Model analysis and exaplainabilty based on Balanced Random forest classifier"
   ]
  },
  {
   "cell_type": "code",
   "execution_count": 53,
   "id": "dce9bf5a",
   "metadata": {},
   "outputs": [],
   "source": [
    "feat_imp_df = pd.DataFrame(brf.feature_importances_, index=X_valid_ohe.columns, columns=[\"feat_imporatnces\"])\n",
    "feat_imp_df.sort_values(by='feat_imporatnces', ascending=False, inplace=True)"
   ]
  },
  {
   "cell_type": "code",
   "execution_count": 54,
   "id": "452db60e",
   "metadata": {},
   "outputs": [
    {
     "data": {
      "text/html": [
       "<div>\n",
       "<style scoped>\n",
       "    .dataframe tbody tr th:only-of-type {\n",
       "        vertical-align: middle;\n",
       "    }\n",
       "\n",
       "    .dataframe tbody tr th {\n",
       "        vertical-align: top;\n",
       "    }\n",
       "\n",
       "    .dataframe thead th {\n",
       "        text-align: right;\n",
       "    }\n",
       "</style>\n",
       "<table border=\"1\" class=\"dataframe\">\n",
       "  <thead>\n",
       "    <tr style=\"text-align: right;\">\n",
       "      <th></th>\n",
       "      <th>feat_imporatnces</th>\n",
       "    </tr>\n",
       "  </thead>\n",
       "  <tbody>\n",
       "    <tr>\n",
       "      <th>age_in_years</th>\n",
       "      <td>0.190619</td>\n",
       "    </tr>\n",
       "    <tr>\n",
       "      <th>AMT_INCOME_TOTAL</th>\n",
       "      <td>0.150961</td>\n",
       "    </tr>\n",
       "    <tr>\n",
       "      <th>employment_in_months</th>\n",
       "      <td>0.141706</td>\n",
       "    </tr>\n",
       "    <tr>\n",
       "      <th>CNT_FAM_MEMBERS</th>\n",
       "      <td>0.039243</td>\n",
       "    </tr>\n",
       "    <tr>\n",
       "      <th>FLAG_OWN_REALTY_Y</th>\n",
       "      <td>0.032841</td>\n",
       "    </tr>\n",
       "    <tr>\n",
       "      <th>CODE_GENDER_M</th>\n",
       "      <td>0.028203</td>\n",
       "    </tr>\n",
       "    <tr>\n",
       "      <th>FLAG_OWN_CAR_Y</th>\n",
       "      <td>0.027590</td>\n",
       "    </tr>\n",
       "    <tr>\n",
       "      <th>FLAG_PHONE_1</th>\n",
       "      <td>0.027469</td>\n",
       "    </tr>\n",
       "    <tr>\n",
       "      <th>CNT_CHILDREN</th>\n",
       "      <td>0.025387</td>\n",
       "    </tr>\n",
       "    <tr>\n",
       "      <th>NAME_INCOME_TYPE_Working</th>\n",
       "      <td>0.020763</td>\n",
       "    </tr>\n",
       "    <tr>\n",
       "      <th>FLAG_WORK_PHONE_1</th>\n",
       "      <td>0.020610</td>\n",
       "    </tr>\n",
       "    <tr>\n",
       "      <th>NAME_EDUCATION_TYPE_Secondary / secondary special</th>\n",
       "      <td>0.019555</td>\n",
       "    </tr>\n",
       "    <tr>\n",
       "      <th>NAME_EDUCATION_TYPE_Higher education</th>\n",
       "      <td>0.018439</td>\n",
       "    </tr>\n",
       "    <tr>\n",
       "      <th>OCCUPATION_TYPE_Core staff</th>\n",
       "      <td>0.017812</td>\n",
       "    </tr>\n",
       "    <tr>\n",
       "      <th>NAME_FAMILY_STATUS_Single / not married</th>\n",
       "      <td>0.017539</td>\n",
       "    </tr>\n",
       "  </tbody>\n",
       "</table>\n",
       "</div>"
      ],
      "text/plain": [
       "                                                   feat_imporatnces\n",
       "age_in_years                                               0.190619\n",
       "AMT_INCOME_TOTAL                                           0.150961\n",
       "employment_in_months                                       0.141706\n",
       "CNT_FAM_MEMBERS                                            0.039243\n",
       "FLAG_OWN_REALTY_Y                                          0.032841\n",
       "CODE_GENDER_M                                              0.028203\n",
       "FLAG_OWN_CAR_Y                                             0.027590\n",
       "FLAG_PHONE_1                                               0.027469\n",
       "CNT_CHILDREN                                               0.025387\n",
       "NAME_INCOME_TYPE_Working                                   0.020763\n",
       "FLAG_WORK_PHONE_1                                          0.020610\n",
       "NAME_EDUCATION_TYPE_Secondary / secondary special          0.019555\n",
       "NAME_EDUCATION_TYPE_Higher education                       0.018439\n",
       "OCCUPATION_TYPE_Core staff                                 0.017812\n",
       "NAME_FAMILY_STATUS_Single / not married                    0.017539"
      ]
     },
     "execution_count": 54,
     "metadata": {},
     "output_type": "execute_result"
    }
   ],
   "source": [
    "feat_imp_df.head(15)"
   ]
  },
  {
   "cell_type": "code",
   "execution_count": null,
   "id": "d15a1eb8",
   "metadata": {},
   "outputs": [],
   "source": []
  }
 ],
 "metadata": {
  "kernelspec": {
   "display_name": "Python 3 (ipykernel)",
   "language": "python",
   "name": "python3"
  },
  "language_info": {
   "codemirror_mode": {
    "name": "ipython",
    "version": 3
   },
   "file_extension": ".py",
   "mimetype": "text/x-python",
   "name": "python",
   "nbconvert_exporter": "python",
   "pygments_lexer": "ipython3",
   "version": "3.9.7"
  }
 },
 "nbformat": 4,
 "nbformat_minor": 5
}
